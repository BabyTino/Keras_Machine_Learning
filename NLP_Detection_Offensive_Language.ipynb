{
  "nbformat": 4,
  "nbformat_minor": 0,
  "metadata": {
    "colab": {
      "name": "Offensive_language_detection.ipynb",
      "provenance": [],
      "collapsed_sections": [],
      "toc_visible": true
    },
    "kernelspec": {
      "name": "python3",
      "display_name": "Python 3"
    }
  },
  "cells": [
    {
      "cell_type": "markdown",
      "metadata": {
        "id": "85WHvVp8V4Yd",
        "colab_type": "text"
      },
      "source": [
        "# Loading the data and the packages / libraries\n"
      ]
    },
    {
      "cell_type": "code",
      "metadata": {
        "id": "tmDbAUXUTphh",
        "colab_type": "code",
        "outputId": "832ddfb5-3f28-45c7-8584-c2a7edcc0c68",
        "colab": {
          "base_uri": "https://localhost:8080/",
          "height": 632
        }
      },
      "source": [
        "# Code to read csv file into Colaboratory:\n",
        "!pip install -U -q PyDrive\n",
        "from pydrive.auth import GoogleAuth\n",
        "from pydrive.drive import GoogleDrive\n",
        "from google.colab import auth\n",
        "from oauth2client.client import GoogleCredentials\n",
        "# Authenticate and create the PyDrive client.\n",
        "auth.authenticate_user()\n",
        "gauth = GoogleAuth()\n",
        "gauth.credentials = GoogleCredentials.get_application_default()\n",
        "drive = GoogleDrive(gauth)\n",
        "\n",
        "train_v1_id = '1QzIm1OrQYhbwY7dRtdkGLK2kFOwoSfgR'\n",
        "\n",
        "test_a_id = '17sLsGw5e2WyLWnGRqHWfbIM8fVoJPcdW'\n",
        "\n",
        "test_b_id = '11KtpkmEZMQj-PmtfyHLlxU3Ue9UbTJmp'\n",
        "\n",
        "test_c_id = '1_nizVEge67DbGrEv_cppl14FxU90CU1r'\n",
        "\n",
        "\n",
        "downloaded_train = drive.CreateFile({'id':train_v1_id}) \n",
        "downloaded_train.GetContentFile('offenseval-training-v1.tsv') \n",
        "\n",
        "downloaded_test_a = drive.CreateFile({'id':test_a_id}) \n",
        "downloaded_test_a.GetContentFile('testset-taska.tsv')\n",
        "\n",
        "downloaded_test_b = drive.CreateFile({'id':test_b_id}) \n",
        "downloaded_test_b.GetContentFile('testset-taskb.tsv') \n",
        "\n",
        "downloaded_test_c = drive.CreateFile({'id':test_c_id}) \n",
        "downloaded_test_c.GetContentFile('test_set_taskc.tsv') \n",
        "\n",
        "\n",
        "\n",
        "\n"
      ],
      "execution_count": 0,
      "outputs": [
        {
          "output_type": "stream",
          "text": [
            "2020-05-13 14:30:56,686 : WARNING : file_cache is unavailable when using oauth2client >= 4.0.0 or google-auth\n",
            "Traceback (most recent call last):\n",
            "  File \"/usr/local/lib/python3.6/dist-packages/googleapiclient/discovery_cache/__init__.py\", line 36, in autodetect\n",
            "    from google.appengine.api import memcache\n",
            "ModuleNotFoundError: No module named 'google.appengine'\n",
            "\n",
            "During handling of the above exception, another exception occurred:\n",
            "\n",
            "Traceback (most recent call last):\n",
            "  File \"/usr/local/lib/python3.6/dist-packages/googleapiclient/discovery_cache/file_cache.py\", line 33, in <module>\n",
            "    from oauth2client.contrib.locked_file import LockedFile\n",
            "ModuleNotFoundError: No module named 'oauth2client.contrib.locked_file'\n",
            "\n",
            "During handling of the above exception, another exception occurred:\n",
            "\n",
            "Traceback (most recent call last):\n",
            "  File \"/usr/local/lib/python3.6/dist-packages/googleapiclient/discovery_cache/file_cache.py\", line 37, in <module>\n",
            "    from oauth2client.locked_file import LockedFile\n",
            "ModuleNotFoundError: No module named 'oauth2client.locked_file'\n",
            "\n",
            "During handling of the above exception, another exception occurred:\n",
            "\n",
            "Traceback (most recent call last):\n",
            "  File \"/usr/local/lib/python3.6/dist-packages/googleapiclient/discovery_cache/__init__.py\", line 42, in autodetect\n",
            "    from . import file_cache\n",
            "  File \"/usr/local/lib/python3.6/dist-packages/googleapiclient/discovery_cache/file_cache.py\", line 41, in <module>\n",
            "    \"file_cache is unavailable when using oauth2client >= 4.0.0 or google-auth\"\n",
            "ImportError: file_cache is unavailable when using oauth2client >= 4.0.0 or google-auth\n",
            "2020-05-13 14:30:56,694 : INFO : URL being requested: GET https://www.googleapis.com/discovery/v1/apis/drive/v2/rest\n",
            "2020-05-13 14:30:56,699 : INFO : Attempting refresh to obtain initial access_token\n",
            "2020-05-13 14:30:56,702 : INFO : Refreshing access_token\n",
            "2020-05-13 14:30:56,850 : INFO : URL being requested: GET https://www.googleapis.com/drive/v2/files/1QzIm1OrQYhbwY7dRtdkGLK2kFOwoSfgR?alt=json\n",
            "2020-05-13 14:30:58,634 : INFO : URL being requested: GET https://www.googleapis.com/drive/v2/files/17sLsGw5e2WyLWnGRqHWfbIM8fVoJPcdW?alt=json\n",
            "2020-05-13 14:30:59,780 : INFO : URL being requested: GET https://www.googleapis.com/drive/v2/files/11KtpkmEZMQj-PmtfyHLlxU3Ue9UbTJmp?alt=json\n",
            "2020-05-13 14:31:01,319 : INFO : URL being requested: GET https://www.googleapis.com/drive/v2/files/1_nizVEge67DbGrEv_cppl14FxU90CU1r?alt=json\n"
          ],
          "name": "stderr"
        }
      ]
    },
    {
      "cell_type": "code",
      "metadata": {
        "id": "M7KSLpoyTwIE",
        "colab_type": "code",
        "colab": {}
      },
      "source": [
        "\n",
        "# Import\n",
        "!pip install -U -q GPyOpt\n",
        "from sklearn.feature_extraction.text import CountVectorizer\n",
        "from sklearn.ensemble import RandomForestClassifier\n",
        "from sklearn.metrics import classification_report\n",
        "from sklearn.model_selection import cross_val_predict\n",
        "from sklearn.model_selection import train_test_split\n",
        "from sklearn.utils import shuffle\n",
        "from sklearn.metrics import f1_score\n",
        "\n",
        "from tqdm import tqdm\n",
        "\n",
        "from collections import Counter\n",
        "\n",
        "import matplotlib.pyplot as plt\n",
        "import pandas as pd\n",
        "import numpy as np\n",
        "import scipy\n",
        "import spacy\n",
        "import re\n",
        "import os\n",
        "\n",
        "import logging\n",
        "from gensim.models import FastText\n",
        "logging.basicConfig(format='%(asctime)s : %(levelname)s : %(message)s', level=logging.INFO)\n",
        "\n",
        "import tensorflow as tf\n",
        "import keras\n",
        "from keras.preprocessing.text import Tokenizer\n",
        "from keras.optimizers import Adam\n",
        "from keras.preprocessing.sequence import pad_sequences\n",
        "from keras import utils\n",
        "from keras.models import Model\n",
        "from keras import Sequential\n",
        "from keras.layers import Dropout, Conv1D, MaxPooling1D, LSTM,Concatenate, Dense, GlobalMaxPooling1D,GlobalAveragePooling1D, Lambda, Input, Bidirectional, GRU, concatenate, SpatialDropout1D, Reshape, merge\n",
        "from keras.layers.embeddings import Embedding\n",
        "\n",
        "\n",
        "import GPyOpt"
      ],
      "execution_count": 0,
      "outputs": []
    },
    {
      "cell_type": "code",
      "metadata": {
        "id": "7irndYzfQPjl",
        "colab_type": "code",
        "outputId": "c25baece-658d-4564-be3e-f06950cf8960",
        "colab": {
          "base_uri": "https://localhost:8080/",
          "height": 510
        }
      },
      "source": [
        "!wget http://nlp.stanford.edu/data/glove.twitter.27B.zip\n",
        "!unzip glove.twitter.27B.zip"
      ],
      "execution_count": 0,
      "outputs": [
        {
          "output_type": "stream",
          "text": [
            "--2020-05-13 14:31:07--  http://nlp.stanford.edu/data/glove.twitter.27B.zip\n",
            "Resolving nlp.stanford.edu (nlp.stanford.edu)... 171.64.67.140\n",
            "Connecting to nlp.stanford.edu (nlp.stanford.edu)|171.64.67.140|:80... connected.\n",
            "HTTP request sent, awaiting response... 302 Found\n",
            "Location: https://nlp.stanford.edu/data/glove.twitter.27B.zip [following]\n",
            "--2020-05-13 14:31:07--  https://nlp.stanford.edu/data/glove.twitter.27B.zip\n",
            "Connecting to nlp.stanford.edu (nlp.stanford.edu)|171.64.67.140|:443... connected.\n",
            "HTTP request sent, awaiting response... 301 Moved Permanently\n",
            "Location: http://downloads.cs.stanford.edu/nlp/data/glove.twitter.27B.zip [following]\n",
            "--2020-05-13 14:31:08--  http://downloads.cs.stanford.edu/nlp/data/glove.twitter.27B.zip\n",
            "Resolving downloads.cs.stanford.edu (downloads.cs.stanford.edu)... 171.64.64.22\n",
            "Connecting to downloads.cs.stanford.edu (downloads.cs.stanford.edu)|171.64.64.22|:80... connected.\n",
            "HTTP request sent, awaiting response... 200 OK\n",
            "Length: 1520408563 (1.4G) [application/zip]\n",
            "Saving to: ‘glove.twitter.27B.zip.1’\n",
            "\n",
            "glove.twitter.27B.z 100%[===================>]   1.42G  1.87MB/s    in 11m 59s \n",
            "\n",
            "2020-05-13 14:43:07 (2.02 MB/s) - ‘glove.twitter.27B.zip.1’ saved [1520408563/1520408563]\n",
            "\n",
            "Archive:  glove.twitter.27B.zip\n",
            "replace glove.twitter.27B.25d.txt? [y]es, [n]o, [A]ll, [N]one, [r]ename: n\n",
            "replace glove.twitter.27B.50d.txt? [y]es, [n]o, [A]ll, [N]one, [r]ename: a\n",
            "error:  invalid response [a]\n",
            "replace glove.twitter.27B.50d.txt? [y]es, [n]o, [A]ll, [N]one, [r]ename: n a\n",
            "replace glove.twitter.27B.100d.txt? [y]es, [n]o, [A]ll, [N]one, [r]ename: n A\n",
            "replace glove.twitter.27B.200d.txt? [y]es, [n]o, [A]ll, [N]one, [r]ename: A\n",
            "  inflating: glove.twitter.27B.200d.txt  a\n",
            "A\n"
          ],
          "name": "stdout"
        }
      ]
    },
    {
      "cell_type": "markdown",
      "metadata": {
        "id": "7Vh8R57QEpym",
        "colab_type": "text"
      },
      "source": [
        "# Dataset details"
      ]
    },
    {
      "cell_type": "code",
      "metadata": {
        "id": "HFGUuSrbNJRO",
        "colab_type": "code",
        "colab": {}
      },
      "source": [
        "root = \"drive/My Drive/OLIDv1/\" "
      ],
      "execution_count": 0,
      "outputs": []
    },
    {
      "cell_type": "code",
      "metadata": {
        "id": "IzRCYmAqcuWK",
        "colab_type": "code",
        "colab": {}
      },
      "source": [
        "# Load the unlabelled dataset\n",
        "\n",
        "test_data_a = pd.read_csv(\"testset-taska.tsv\", sep = \"\\t\", header = 0)\n",
        "test_data_b = pd.read_csv(\"testset-taskb.tsv\", sep = \"\\t\", header = 0)\n",
        "test_data_c = pd.read_csv(\"test_set_taskc.tsv\", sep = \"\\t\", header = 0)"
      ],
      "execution_count": 0,
      "outputs": []
    },
    {
      "cell_type": "code",
      "metadata": {
        "id": "zjFl6qBkEpyn",
        "colab_type": "code",
        "colab": {}
      },
      "source": [
        "# Load the labelled dataset\n",
        "\n",
        "data = pd.read_csv(\"offenseval-training-v1.tsv\", sep = \"\\t\", header = 0)"
      ],
      "execution_count": 0,
      "outputs": []
    },
    {
      "cell_type": "code",
      "metadata": {
        "id": "YbXmgyCYEpyq",
        "colab_type": "code",
        "colab": {}
      },
      "source": [
        "print(\"Dataset size:\", len(data))"
      ],
      "execution_count": 0,
      "outputs": []
    },
    {
      "cell_type": "code",
      "metadata": {
        "id": "Tcr1e3LqEpyv",
        "colab_type": "code",
        "colab": {}
      },
      "source": [
        "data.info()"
      ],
      "execution_count": 0,
      "outputs": []
    },
    {
      "cell_type": "code",
      "metadata": {
        "id": "NANWbUuxEpy0",
        "colab_type": "code",
        "colab": {}
      },
      "source": [
        "data.head()"
      ],
      "execution_count": 0,
      "outputs": []
    },
    {
      "cell_type": "markdown",
      "metadata": {
        "id": "rwt-IOqnEpzB",
        "colab_type": "text"
      },
      "source": [
        "# Preprocessing "
      ]
    },
    {
      "cell_type": "markdown",
      "metadata": {
        "id": "6ordEAKsEpzD",
        "colab_type": "text"
      },
      "source": [
        "## Dataset base-cleaning"
      ]
    },
    {
      "cell_type": "code",
      "metadata": {
        "id": "bQbweMRcEpzE",
        "colab_type": "code",
        "colab": {}
      },
      "source": [
        "# Load stopwords from SpaCy\n",
        "\n",
        "nlp = spacy.load(\"en\")\n",
        "spacy_stopwords = spacy.lang.en.stop_words.STOP_WORDS"
      ],
      "execution_count": 0,
      "outputs": []
    },
    {
      "cell_type": "code",
      "metadata": {
        "id": "BFtJMFsBEpzJ",
        "colab_type": "code",
        "colab": {}
      },
      "source": [
        "# Text preprocessing \n",
        "def clean_data(tweet):\n",
        "    splitted_tweet = tweet.lower().split()\n",
        "    clean_tweet = []\n",
        "    previous_word = None\n",
        "    user_count = 0\n",
        "    for word in splitted_tweet:\n",
        "        #if word not in spacy_stopwords:\n",
        "        word = re.sub(\"[#@]\",\"\",word)\n",
        "        word = re.sub(\"!\",\" !\",word)\n",
        "        word = re.sub(\"[?]\",\" ?\",word)\n",
        "        \n",
        "        if(word == \"user\"):\n",
        "          user_count += 1\n",
        "          \n",
        "        if(word == \"user\" and previous_word == \"user\"):\n",
        "          pass\n",
        "        else:\n",
        "          clean_tweet.append(word)\n",
        "          \n",
        "        previous_word = word\n",
        "          \n",
        "    return \" \".join(clean_tweet), user_count"
      ],
      "execution_count": 0,
      "outputs": []
    },
    {
      "cell_type": "code",
      "metadata": {
        "id": "g9AZLjK6EpzP",
        "colab_type": "code",
        "colab": {}
      },
      "source": [
        "#clean data and count users\n",
        "data = data.merge(data.tweet.apply(lambda x:pd.Series({'clean':clean_data(x)[0], 'user_count': clean_data(x)[1]})), left_index=True, right_index=True)"
      ],
      "execution_count": 0,
      "outputs": []
    },
    {
      "cell_type": "code",
      "metadata": {
        "id": "L6whnfOOrODf",
        "colab_type": "code",
        "colab": {}
      },
      "source": [
        "# Normalise the user count in order to have better training performance in the neural network\n",
        "max_ = data[\"user_count\"].max()\n",
        "data[\"user_count\"] = data[\"user_count\"].apply(lambda x:x/max_);"
      ],
      "execution_count": 0,
      "outputs": []
    },
    {
      "cell_type": "code",
      "metadata": {
        "id": "dcvJ7PYXEpzb",
        "colab_type": "code",
        "colab": {}
      },
      "source": [
        "data_a = data[data[\"subtask_a\"].notna()]\n",
        "data_b = data[data[\"subtask_b\"].notna()]\n",
        "data_c = data[data[\"subtask_c\"].notna()]"
      ],
      "execution_count": 0,
      "outputs": []
    },
    {
      "cell_type": "code",
      "metadata": {
        "id": "6PpV71BJEpzg",
        "colab_type": "code",
        "colab": {}
      },
      "source": [
        "X_a = data_a[[\"clean\", \"user_count\"]]\n",
        "label_a = data_a[\"subtask_a\"]\n",
        "X_b = data_b[[\"clean\", \"user_count\"]]\n",
        "label_b = data_b[\"subtask_b\"]\n",
        "X_c = data_c[[\"clean\", \"user_count\"]]\n",
        "label_c = data_c[\"subtask_c\"]"
      ],
      "execution_count": 0,
      "outputs": []
    },
    {
      "cell_type": "code",
      "metadata": {
        "id": "F5LM7iK6T55G",
        "colab_type": "code",
        "colab": {}
      },
      "source": [
        "label_to_number_a = {'OFF':0,'NOT':1}\n",
        "label_to_number_b = {'UNT':0,'TIN':1}\n",
        "label_to_number_c = {'IND':0,'OTH':1,'GRP':2}\n",
        "number_to_label_a = {v:k for k, v in label_to_number_a.items()}\n",
        "number_to_label_b = {v:k for k, v in label_to_number_b.items()}\n",
        "number_to_label_c = {v:k for k, v in label_to_number_c.items()}\n",
        "binary_labels_a = data_a.subtask_a.apply(lambda x:label_to_number_a[x])\n",
        "binary_labels_b = data_b.subtask_b.apply(lambda x:label_to_number_b[x])\n",
        "binary_labels_c = data_c.subtask_c.apply(lambda x:label_to_number_c[x])"
      ],
      "execution_count": 0,
      "outputs": []
    },
    {
      "cell_type": "code",
      "metadata": {
        "id": "sm2INbOYUhi_",
        "colab_type": "code",
        "outputId": "7a8ef403-3f98-4078-8694-880c91c17a22",
        "colab": {
          "base_uri": "https://localhost:8080/",
          "height": 34
        }
      },
      "source": [
        "\n",
        "# Tokenisation\n",
        "tokenizer = Tokenizer()\n",
        "tokenizer.fit_on_texts(data.clean)\n",
        "sequences = tokenizer.texts_to_sequences(data.clean)\n",
        "seq = pad_sequences(sequences)\n",
        "\n",
        "max_seq = len(seq[0])\n",
        "print(\"maximum length of a sequence:\" ,max_seq)\n",
        "\n",
        "# Text to token\n",
        "def build_seq(dataset):\n",
        "  sequences = tokenizer.texts_to_sequences(dataset.clean)\n",
        "  seq = pad_sequences(sequences, maxlen=max_seq)\n",
        "  return seq\n"
      ],
      "execution_count": 0,
      "outputs": [
        {
          "output_type": "stream",
          "text": [
            "maximum length of a sequence: 63\n"
          ],
          "name": "stdout"
        }
      ]
    },
    {
      "cell_type": "code",
      "metadata": {
        "id": "LG9b5x9-Ep0B",
        "colab_type": "code",
        "colab": {}
      },
      "source": [
        "X_train_a, X_test_a, count_train_a, count_test_a, y_train_a, y_test_a = train_test_split(build_seq(X_a), X_a.user_count, binary_labels_a, test_size=0.2)\n",
        "X_train_b, X_test_b, count_train_b, count_test_b, y_train_b, y_test_b = train_test_split(build_seq(X_b), X_b.user_count, binary_labels_b, test_size=0.2)\n",
        "X_train_c, X_test_c, count_train_c, count_test_c, y_train_c, y_test_c = train_test_split(build_seq(X_c), X_c.user_count, binary_labels_c, test_size=0.2)"
      ],
      "execution_count": 0,
      "outputs": []
    },
    {
      "cell_type": "code",
      "metadata": {
        "id": "KbJtpbzoUXU-",
        "colab_type": "code",
        "outputId": "27dbc13d-3964-43fb-8f55-0d354693d723",
        "colab": {
          "base_uri": "https://localhost:8080/",
          "height": 281
        }
      },
      "source": [
        "plt.figure(figsize = (12,4))\n",
        "plt.subplot(131)\n",
        "cat_a = Counter(y_train_a)\n",
        "plt.bar(list(cat_a.keys()), list(cat_a.values()))\n",
        "plt.xticks(range(len(cat_a)), label_to_number_a)\n",
        "plt.title(\"Distribition of labels in subtask A\");\n",
        "plt.subplot(132)\n",
        "cat_b = Counter(y_train_b)\n",
        "plt.bar(list(cat_b.keys()), list(cat_b.values()))\n",
        "plt.xticks(range(len(cat_b)), label_to_number_b)\n",
        "plt.title(\"Distribition of labels in subtask B\");\n",
        "plt.subplot(133)\n",
        "cat_c = Counter(y_train_c)\n",
        "plt.bar(list(cat_c.keys()), list(cat_c.values()))\n",
        "plt.xticks(range(len(cat_c)), label_to_number_c)\n",
        "plt.title(\"Distribition of labels in subtask C\");"
      ],
      "execution_count": 0,
      "outputs": [
        {
          "output_type": "display_data",
          "data": {
            "image/png": "[encoded data removed]",
            "text/plain": [
              "<Figure size 864x288 with 3 Axes>"
            ]
          },
          "metadata": {
            "tags": [],
            "needs_background": "light"
          }
        }
      ]
    },
    {
      "cell_type": "markdown",
      "metadata": {
        "id": "F_CvqlHSTy7L",
        "colab_type": "text"
      },
      "source": [
        "## Over / under -spampling"
      ]
    },
    {
      "cell_type": "markdown",
      "metadata": {
        "id": "7b8GfO0hbiLo",
        "colab_type": "text"
      },
      "source": [
        "The dataset is highly imbalanced, so we decide to combine oversampling and undersampling in order to have balanced dataset"
      ]
    },
    {
      "cell_type": "code",
      "metadata": {
        "id": "dmAXzTxpFxWs",
        "colab_type": "code",
        "colab": {}
      },
      "source": [
        "def same_size_data(X_train, count_train, y_train, ratio_down_over_up=0.5):\n",
        "  X_train = list(X_train)\n",
        "  count_train = list(count_train)\n",
        "  y_train = list(y_train)\n",
        "  \n",
        "  n_cat = len(Counter(y_train))\n",
        "  \n",
        "  sorted_counter = Counter(y_train).most_common()\n",
        "  max_cat = sorted_counter[0][1]\n",
        "  min_cat = sorted_counter[-1][1]\n",
        "  \n",
        "  target = min_cat + (1-ratio_down_over_up)*(max_cat - min_cat)\n",
        "  \n",
        "  for i in range(n_cat):\n",
        "    diff = int(sorted_counter[i][1] - target)\n",
        "    k = 0\n",
        "    if diff > 0:\n",
        "      rm = 0    \n",
        "      while rm <= diff:\n",
        "        if(y_train[k] == sorted_counter[i][0]):\n",
        "          X_train.pop(k)\n",
        "          y_train.pop(k)\n",
        "          count_train.pop(k)\n",
        "          rm += 1\n",
        "          k -=1\n",
        "        k += 1\n",
        "    else:\n",
        "      ad = 0\n",
        "      while ad <= -diff:\n",
        "        if(y_train[k] == sorted_counter[i][0]):\n",
        "          X_train.append(X_train[k])\n",
        "          y_train.append(y_train[k])\n",
        "          count_train.append(count_train[k])\n",
        "          ad += 1\n",
        "        k += 1\n",
        "        \n",
        "  return X_train, count_train, y_train"
      ],
      "execution_count": 0,
      "outputs": []
    },
    {
      "cell_type": "code",
      "metadata": {
        "id": "89h_sv8ENoZ3",
        "colab_type": "code",
        "colab": {}
      },
      "source": [
        "X_train_a, count_train_a, y_train_a = same_size_data(X_train_a, count_train_a, y_train_a, 0.3)\n",
        "X_train_a, count_train_a, y_train_a = shuffle(X_train_a, count_train_a, y_train_a)\n",
        "X_train_b, count_train_b, y_train_b = same_size_data(X_train_b, count_train_b, y_train_b, 0.2)\n",
        "X_train_b, count_train_b, y_train_b = shuffle(X_train_b, count_train_b, y_train_b)\n",
        "X_train_c, count_train_c, y_train_c = same_size_data(X_train_c, count_train_c, y_train_c, 0.7)\n",
        "X_train_c, count_train_c, y_train_c = shuffle(X_train_c, count_train_c, y_train_c)"
      ],
      "execution_count": 0,
      "outputs": []
    },
    {
      "cell_type": "code",
      "metadata": {
        "id": "FZNnUhQREp0P",
        "colab_type": "code",
        "outputId": "460b08b2-2a04-40a8-ac4e-8d491af55e29",
        "colab": {
          "base_uri": "https://localhost:8080/",
          "height": 281
        }
      },
      "source": [
        "plt.figure(figsize = (12,4))\n",
        "plt.subplot(131)\n",
        "cat_a = Counter(y_train_a)\n",
        "plt.bar(list(cat_a.keys()), list(cat_a.values()))\n",
        "plt.xticks(range(len(cat_a)), label_to_number_a)\n",
        "plt.title(\"Distribition of labels in subtask A\");\n",
        "plt.subplot(132)\n",
        "cat_b = Counter(y_train_b)\n",
        "plt.bar(list(cat_b.keys()), list(cat_b.values()))\n",
        "plt.xticks(range(len(cat_b)), label_to_number_b)\n",
        "plt.title(\"Distribition of labels in subtask B\");\n",
        "plt.subplot(133)\n",
        "cat_c = Counter(y_train_c)\n",
        "plt.bar(list(cat_c.keys()), list(cat_c.values()))\n",
        "plt.xticks(range(len(cat_c)), label_to_number_c)\n",
        "plt.title(\"Distribition of labels in subtask C\");"
      ],
      "execution_count": 0,
      "outputs": [
        {
          "output_type": "display_data",
          "data": {
            "image/png": "[encoded data removed]",
            "text/plain": [
              "<Figure size 864x288 with 3 Axes>"
            ]
          },
          "metadata": {
            "tags": [],
            "needs_background": "light"
          }
        }
      ]
    },
    {
      "cell_type": "markdown",
      "metadata": {
        "id": "S_tG8t1XEpzl",
        "colab_type": "text"
      },
      "source": [
        "# Baseline: Bag-of-Words model"
      ]
    },
    {
      "cell_type": "markdown",
      "metadata": {
        "id": "4jpALithSbb4",
        "colab_type": "text"
      },
      "source": [
        "In order to determine the ration of undersampling and oversampling, we use a Random Forest Classier in different ratio and perform a cross-validation."
      ]
    },
    {
      "cell_type": "code",
      "metadata": {
        "id": "-ek4JjdBP3U9",
        "colab_type": "code",
        "colab": {}
      },
      "source": [
        "def bag_of_words_class_tune_sampling(tweets_train, counts_train, label_train, tweets_test, count_test, label_test):\n",
        "  tweets_train = tokenizer.sequences_to_texts(tweets_train)\n",
        "  tweets_test = tokenizer.sequences_to_texts(tweets_test)\n",
        "  v = CountVectorizer()\n",
        "  transformed_train = v.fit_transform(tweets_train)\n",
        "  transformed_test = v.transform(tweets_test)\n",
        "  rf = RandomForestClassifier()\n",
        "  rf.fit(scipy.sparse.hstack([transformed_train,  scipy.sparse.coo_matrix(np.array(counts_train)[:, None])]), label_train)\n",
        "  \n",
        "  sum = 0\n",
        "  for key, elem in classification_report(rf.predict(scipy.sparse.hstack([transformed_test,  scipy.sparse.coo_matrix(np.array(count_test)[:, None])])), label_test, output_dict = True).items():\n",
        "    sum += classification_report(rf.predict(scipy.sparse.hstack([transformed_test,  scipy.sparse.coo_matrix(np.array(count_test)[:, None])])), label_test, output_dict = True)[key][\"f1-score\"]\n",
        "    \n",
        "  return sum"
      ],
      "execution_count": 0,
      "outputs": []
    },
    {
      "cell_type": "code",
      "metadata": {
        "id": "T9bdrHuCPyIX",
        "colab_type": "code",
        "outputId": "3857e99e-12b1-47a8-aee9-918dc762483b",
        "colab": {
          "base_uri": "https://localhost:8080/",
          "height": 388
        }
      },
      "source": [
        "a_score = 0\n",
        "b_score = 0\n",
        "c_score = 0\n",
        "\n",
        "best_a_ratio = 0.1\n",
        "best_b_ratio = 0.1\n",
        "best_c_ratio = 0.1\n",
        "\n",
        "for i in range(9):\n",
        "  \n",
        "  print(\"iter {}\".format(i))\n",
        "  temp_ratio = 0.1+i*0.1\n",
        "  \n",
        "  X_train_a, X_test_a, count_train_a, count_test_a, y_train_a, y_test_a = train_test_split(build_seq(X_a), X_a.user_count, binary_labels_a, test_size=0.2)\n",
        "  X_train_b, X_test_b, count_train_b, count_test_b, y_train_b, y_test_b = train_test_split(build_seq(X_b), X_b.user_count, binary_labels_b, test_size=0.2)\n",
        "  X_train_c, X_test_c, count_train_c, count_test_c, y_train_c, y_test_c = train_test_split(build_seq(X_c), X_c.user_count, binary_labels_c, test_size=0.2)\n",
        "  \n",
        "  X_train_a, count_train_a, y_train_a = same_size_data(X_train_a, count_train_a, y_train_a, temp_ratio)\n",
        "  X_train_a, count_train_a, y_train_a = shuffle(X_train_a, count_train_a, y_train_a)\n",
        "  X_train_b, count_train_b, y_train_b = same_size_data(X_train_b, count_train_b, y_train_b, temp_ratio)\n",
        "  X_train_b, count_train_b, y_train_b = shuffle(X_train_b, count_train_b, y_train_b)\n",
        "  X_train_c, count_train_c, y_train_c = same_size_data(X_train_c, count_train_c, y_train_c, temp_ratio)\n",
        "  X_train_c, count_train_c, y_train_c = shuffle(X_train_c, count_train_c, y_train_c)\n",
        "  \n",
        "  temp_a = bag_of_words_class_tune_sampling(X_train_a, count_train_a ,y_train_a, X_test_a, count_test_a ,y_test_a)\n",
        "  temp_b = bag_of_words_class_tune_sampling(X_train_b,count_train_b ,y_train_b, X_test_b,count_test_b ,y_test_b)\n",
        "  temp_c = bag_of_words_class_tune_sampling(X_train_c,count_train_c ,y_train_c, X_test_c,count_test_c ,y_test_c)\n",
        "  \n",
        "  if(temp_a > a_score):\n",
        "    best_a_ratio = temp_ratio\n",
        "    a_score = temp_a\n",
        "  if(temp_b > b_score):\n",
        "    best_b_ratio = temp_ratio\n",
        "    b_score = temp_b\n",
        "  if(temp_c > c_score):\n",
        "    best_c_ratio = temp_ratio\n",
        "    c_score = temp_c\n",
        "    \n",
        "print(\"best_a_ratio = {}\".format(best_a_ratio))\n",
        "print(\"best_b_ratio = {}\".format(best_b_ratio))\n",
        "print(\"best_c_ratio = {}\".format(best_c_ratio))"
      ],
      "execution_count": 0,
      "outputs": [
        {
          "output_type": "stream",
          "text": [
            "iter 0\n"
          ],
          "name": "stdout"
        },
        {
          "output_type": "error",
          "ename": "TypeError",
          "evalue": "ignored",
          "traceback": [
            "\u001b[0;31m---------------------------------------------------------------------------\u001b[0m",
            "\u001b[0;31mTypeError\u001b[0m                                 Traceback (most recent call last)",
            "\u001b[0;32m<ipython-input-76-14617feda784>\u001b[0m in \u001b[0;36m<module>\u001b[0;34m()\u001b[0m\n\u001b[1;32m     23\u001b[0m   \u001b[0mX_train_c\u001b[0m\u001b[0;34m,\u001b[0m \u001b[0mcount_train_c\u001b[0m\u001b[0;34m,\u001b[0m \u001b[0my_train_c\u001b[0m \u001b[0;34m=\u001b[0m \u001b[0mshuffle\u001b[0m\u001b[0;34m(\u001b[0m\u001b[0mX_train_c\u001b[0m\u001b[0;34m,\u001b[0m \u001b[0mcount_train_c\u001b[0m\u001b[0;34m,\u001b[0m \u001b[0my_train_c\u001b[0m\u001b[0;34m)\u001b[0m\u001b[0;34m\u001b[0m\u001b[0;34m\u001b[0m\u001b[0m\n\u001b[1;32m     24\u001b[0m \u001b[0;34m\u001b[0m\u001b[0m\n\u001b[0;32m---> 25\u001b[0;31m   \u001b[0mtemp_a\u001b[0m \u001b[0;34m=\u001b[0m \u001b[0mbag_of_words_class_tune_sampling\u001b[0m\u001b[0;34m(\u001b[0m\u001b[0mX_train_a\u001b[0m\u001b[0;34m,\u001b[0m \u001b[0mcount_train_a\u001b[0m \u001b[0;34m,\u001b[0m\u001b[0my_train_a\u001b[0m\u001b[0;34m,\u001b[0m \u001b[0mX_test_a\u001b[0m\u001b[0;34m,\u001b[0m \u001b[0mcount_test_a\u001b[0m \u001b[0;34m,\u001b[0m\u001b[0my_test_a\u001b[0m\u001b[0;34m)\u001b[0m\u001b[0;34m\u001b[0m\u001b[0;34m\u001b[0m\u001b[0m\n\u001b[0m\u001b[1;32m     26\u001b[0m   \u001b[0mtemp_b\u001b[0m \u001b[0;34m=\u001b[0m \u001b[0mbag_of_words_class_tune_sampling\u001b[0m\u001b[0;34m(\u001b[0m\u001b[0mX_train_b\u001b[0m\u001b[0;34m,\u001b[0m\u001b[0mcount_train_b\u001b[0m \u001b[0;34m,\u001b[0m\u001b[0my_train_b\u001b[0m\u001b[0;34m,\u001b[0m \u001b[0mX_test_b\u001b[0m\u001b[0;34m,\u001b[0m\u001b[0mcount_test_b\u001b[0m \u001b[0;34m,\u001b[0m\u001b[0my_test_b\u001b[0m\u001b[0;34m)\u001b[0m\u001b[0;34m\u001b[0m\u001b[0;34m\u001b[0m\u001b[0m\n\u001b[1;32m     27\u001b[0m   \u001b[0mtemp_c\u001b[0m \u001b[0;34m=\u001b[0m \u001b[0mbag_of_words_class_tune_sampling\u001b[0m\u001b[0;34m(\u001b[0m\u001b[0mX_train_c\u001b[0m\u001b[0;34m,\u001b[0m\u001b[0mcount_train_c\u001b[0m \u001b[0;34m,\u001b[0m\u001b[0my_train_c\u001b[0m\u001b[0;34m,\u001b[0m \u001b[0mX_test_c\u001b[0m\u001b[0;34m,\u001b[0m\u001b[0mcount_test_c\u001b[0m \u001b[0;34m,\u001b[0m\u001b[0my_test_c\u001b[0m\u001b[0;34m)\u001b[0m\u001b[0;34m\u001b[0m\u001b[0;34m\u001b[0m\u001b[0m\n",
            "\u001b[0;32m<ipython-input-75-b224f87376dc>\u001b[0m in \u001b[0;36mbag_of_words_class_tune_sampling\u001b[0;34m(tweets_train, counts_train, label_train, tweets_test, count_test, label_test)\u001b[0m\n\u001b[1;32m     10\u001b[0m   \u001b[0msum\u001b[0m \u001b[0;34m=\u001b[0m \u001b[0;36m0\u001b[0m\u001b[0;34m\u001b[0m\u001b[0;34m\u001b[0m\u001b[0m\n\u001b[1;32m     11\u001b[0m   \u001b[0;32mfor\u001b[0m \u001b[0mkey\u001b[0m\u001b[0;34m,\u001b[0m \u001b[0melem\u001b[0m \u001b[0;32min\u001b[0m \u001b[0mclassification_report\u001b[0m\u001b[0;34m(\u001b[0m\u001b[0mrf\u001b[0m\u001b[0;34m.\u001b[0m\u001b[0mpredict\u001b[0m\u001b[0;34m(\u001b[0m\u001b[0mscipy\u001b[0m\u001b[0;34m.\u001b[0m\u001b[0msparse\u001b[0m\u001b[0;34m.\u001b[0m\u001b[0mhstack\u001b[0m\u001b[0;34m(\u001b[0m\u001b[0;34m[\u001b[0m\u001b[0mtransformed_test\u001b[0m\u001b[0;34m,\u001b[0m  \u001b[0mscipy\u001b[0m\u001b[0;34m.\u001b[0m\u001b[0msparse\u001b[0m\u001b[0;34m.\u001b[0m\u001b[0mcoo_matrix\u001b[0m\u001b[0;34m(\u001b[0m\u001b[0mnp\u001b[0m\u001b[0;34m.\u001b[0m\u001b[0marray\u001b[0m\u001b[0;34m(\u001b[0m\u001b[0mcount_test\u001b[0m\u001b[0;34m)\u001b[0m\u001b[0;34m[\u001b[0m\u001b[0;34m:\u001b[0m\u001b[0;34m,\u001b[0m \u001b[0;32mNone\u001b[0m\u001b[0;34m]\u001b[0m\u001b[0;34m)\u001b[0m\u001b[0;34m]\u001b[0m\u001b[0;34m)\u001b[0m\u001b[0;34m)\u001b[0m\u001b[0;34m,\u001b[0m \u001b[0mlabel_test\u001b[0m\u001b[0;34m,\u001b[0m \u001b[0moutput_dict\u001b[0m \u001b[0;34m=\u001b[0m \u001b[0;32mTrue\u001b[0m\u001b[0;34m)\u001b[0m\u001b[0;34m.\u001b[0m\u001b[0mitems\u001b[0m\u001b[0;34m(\u001b[0m\u001b[0;34m)\u001b[0m\u001b[0;34m:\u001b[0m\u001b[0;34m\u001b[0m\u001b[0;34m\u001b[0m\u001b[0m\n\u001b[0;32m---> 12\u001b[0;31m     \u001b[0msum\u001b[0m \u001b[0;34m+=\u001b[0m \u001b[0mclassification_report\u001b[0m\u001b[0;34m(\u001b[0m\u001b[0mrf\u001b[0m\u001b[0;34m.\u001b[0m\u001b[0mpredict\u001b[0m\u001b[0;34m(\u001b[0m\u001b[0mscipy\u001b[0m\u001b[0;34m.\u001b[0m\u001b[0msparse\u001b[0m\u001b[0;34m.\u001b[0m\u001b[0mhstack\u001b[0m\u001b[0;34m(\u001b[0m\u001b[0;34m[\u001b[0m\u001b[0mtransformed_test\u001b[0m\u001b[0;34m,\u001b[0m  \u001b[0mscipy\u001b[0m\u001b[0;34m.\u001b[0m\u001b[0msparse\u001b[0m\u001b[0;34m.\u001b[0m\u001b[0mcoo_matrix\u001b[0m\u001b[0;34m(\u001b[0m\u001b[0mnp\u001b[0m\u001b[0;34m.\u001b[0m\u001b[0marray\u001b[0m\u001b[0;34m(\u001b[0m\u001b[0mcount_test\u001b[0m\u001b[0;34m)\u001b[0m\u001b[0;34m[\u001b[0m\u001b[0;34m:\u001b[0m\u001b[0;34m,\u001b[0m \u001b[0;32mNone\u001b[0m\u001b[0;34m]\u001b[0m\u001b[0;34m)\u001b[0m\u001b[0;34m]\u001b[0m\u001b[0;34m)\u001b[0m\u001b[0;34m)\u001b[0m\u001b[0;34m,\u001b[0m \u001b[0mlabel_test\u001b[0m\u001b[0;34m,\u001b[0m \u001b[0moutput_dict\u001b[0m \u001b[0;34m=\u001b[0m \u001b[0;32mTrue\u001b[0m\u001b[0;34m)\u001b[0m\u001b[0;34m[\u001b[0m\u001b[0mkey\u001b[0m\u001b[0;34m]\u001b[0m\u001b[0;34m[\u001b[0m\u001b[0;34m\"f1-score\"\u001b[0m\u001b[0;34m]\u001b[0m\u001b[0;34m\u001b[0m\u001b[0;34m\u001b[0m\u001b[0m\n\u001b[0m\u001b[1;32m     13\u001b[0m \u001b[0;34m\u001b[0m\u001b[0m\n\u001b[1;32m     14\u001b[0m   \u001b[0;32mreturn\u001b[0m \u001b[0msum\u001b[0m\u001b[0;34m\u001b[0m\u001b[0;34m\u001b[0m\u001b[0m\n",
            "\u001b[0;31mTypeError\u001b[0m: 'float' object is not subscriptable"
          ]
        }
      ]
    },
    {
      "cell_type": "code",
      "metadata": {
        "id": "Jz8wXVHHRF1o",
        "colab_type": "code",
        "colab": {}
      },
      "source": [
        "def bag_of_words_test(tweets_train, counts_train, label_train, tweets_test, count_test, label_test):\n",
        "  tweets_train = tokenizer.sequences_to_texts(tweets_train)\n",
        "  tweets_test = tokenizer.sequences_to_texts(tweets_test)\n",
        "  v = CountVectorizer()\n",
        "  transformed_train = v.fit_transform(tweets_train)\n",
        "  transformed_test = v.transform(tweets_test)\n",
        "  rf = RandomForestClassifier()\n",
        "  rf.fit(scipy.sparse.hstack([transformed_train,  scipy.sparse.coo_matrix(np.array(counts_train)[:, None])]), label_train)\n",
        "  print(classification_report(rf.predict(scipy.sparse.hstack([transformed_test,  scipy.sparse.coo_matrix(np.array(count_test)[:, None])])), label_test))"
      ],
      "execution_count": 0,
      "outputs": []
    },
    {
      "cell_type": "code",
      "metadata": {
        "id": "HdWFGtRTEpzn",
        "colab_type": "code",
        "outputId": "dbecf597-bac7-41b3-ceae-ab0606393511",
        "colab": {
          "base_uri": "https://localhost:8080/",
          "height": 493
        }
      },
      "source": [
        "### Baseline results\n",
        "bag_of_words_test(X_train_a, count_train_a ,y_train_a, X_test_a, count_test_a ,y_test_a)\n",
        "bag_of_words_test(X_train_b,count_train_b ,y_train_b, X_test_b,count_test_b ,y_test_b)\n",
        "bag_of_words_test(X_train_c,count_train_c ,y_train_c, X_test_c,count_test_c ,y_test_c)"
      ],
      "execution_count": 0,
      "outputs": [
        {
          "output_type": "stream",
          "text": [
            "              precision    recall  f1-score   support\n",
            "\n",
            "           0       0.46      0.69      0.55       559\n",
            "           1       0.90      0.78      0.84      2089\n",
            "\n",
            "    accuracy                           0.76      2648\n",
            "   macro avg       0.68      0.74      0.70      2648\n",
            "weighted avg       0.81      0.76      0.78      2648\n",
            "\n",
            "              precision    recall  f1-score   support\n",
            "\n",
            "           0       0.22      0.43      0.29        46\n",
            "           1       0.97      0.91      0.94       834\n",
            "\n",
            "    accuracy                           0.89       880\n",
            "   macro avg       0.59      0.67      0.61       880\n",
            "weighted avg       0.93      0.89      0.91       880\n",
            "\n",
            "              precision    recall  f1-score   support\n",
            "\n",
            "           0       0.84      0.78      0.81       522\n",
            "           1       0.06      0.40      0.11        10\n",
            "           2       0.64      0.59      0.61       244\n",
            "\n",
            "    accuracy                           0.72       776\n",
            "   macro avg       0.51      0.59      0.51       776\n",
            "weighted avg       0.77      0.72      0.74       776\n",
            "\n"
          ],
          "name": "stdout"
        }
      ]
    },
    {
      "cell_type": "markdown",
      "metadata": {
        "id": "dcq6yjP0Ep0c",
        "colab_type": "text"
      },
      "source": [
        "# Train our own embeddings"
      ]
    },
    {
      "cell_type": "code",
      "metadata": {
        "id": "5VHWtgsHA44N",
        "colab_type": "code",
        "colab": {}
      },
      "source": [
        "EMBEDDING_SIZE = 100"
      ],
      "execution_count": 0,
      "outputs": []
    },
    {
      "cell_type": "code",
      "metadata": {
        "id": "rbWhu7IqEp0d",
        "colab_type": "code",
        "colab": {}
      },
      "source": [
        "sequences = tokenizer.texts_to_sequences(data.clean)\n",
        "seq = pad_sequences(sequences)\n",
        "preprocessed = tokenizer.sequences_to_texts(seq)\n",
        "sentences = [t.split() for t in preprocessed]"
      ],
      "execution_count": 0,
      "outputs": []
    },
    {
      "cell_type": "code",
      "metadata": {
        "id": "sk-M0ibUcgd4",
        "colab_type": "code",
        "outputId": "a3a913ec-ca1c-45fe-c512-1e3b315ed844",
        "colab": {
          "base_uri": "https://localhost:8080/",
          "height": 1000
        }
      },
      "source": [
        "model = FastText(sentences, size=EMBEDDING_SIZE, window=5, min_count=1, workers=4, iter = 40)"
      ],
      "execution_count": 0,
      "outputs": [
        {
          "output_type": "stream",
          "text": [
            "2020-05-13 15:03:55,121 : INFO : collecting all words and their counts\n",
            "2020-05-13 15:03:55,122 : INFO : PROGRESS: at sentence #0, processed 0 words, keeping 0 word types\n",
            "2020-05-13 15:03:55,178 : INFO : PROGRESS: at sentence #10000, processed 208515 words, keeping 18006 word types\n",
            "2020-05-13 15:03:55,196 : INFO : collected 21250 word types from a corpus of 276361 raw words and 13240 sentences\n",
            "2020-05-13 15:03:55,197 : INFO : Loading a fresh vocabulary\n",
            "2020-05-13 15:03:55,242 : INFO : effective_min_count=1 retains 21250 unique words (100% of original 21250, drops 0)\n",
            "2020-05-13 15:03:55,243 : INFO : effective_min_count=1 leaves 276361 word corpus (100% of original 276361, drops 0)\n",
            "2020-05-13 15:03:55,316 : INFO : deleting the raw counts dictionary of 21250 items\n",
            "2020-05-13 15:03:55,317 : INFO : sample=0.001 downsamples 56 most-common words\n",
            "2020-05-13 15:03:55,318 : INFO : downsampling leaves estimated 210081 word corpus (76.0% of prior 276361)\n",
            "2020-05-13 15:03:55,664 : INFO : estimated required memory for 21250 words, 139446 buckets and 100 dimensions: 88250336 bytes\n",
            "2020-05-13 15:03:55,671 : INFO : resetting layer weights\n",
            "2020-05-13 15:04:00,684 : INFO : Total number of ngrams is 139446\n",
            "2020-05-13 15:04:01,881 : INFO : training model with 4 workers on 21250 vocabulary and 100 features, using sg=0 hs=0 sample=0.001 negative=5 window=5\n",
            "2020-05-13 15:04:02,919 : INFO : EPOCH 1 - PROGRESS: at 68.75% examples, 140441 words/s, in_qsize 8, out_qsize 0\n",
            "2020-05-13 15:04:03,149 : INFO : worker thread finished; awaiting finish of 3 more threads\n",
            "2020-05-13 15:04:03,180 : INFO : worker thread finished; awaiting finish of 2 more threads\n",
            "2020-05-13 15:04:03,209 : INFO : worker thread finished; awaiting finish of 1 more threads\n",
            "2020-05-13 15:04:03,224 : INFO : worker thread finished; awaiting finish of 0 more threads\n",
            "2020-05-13 15:04:03,226 : INFO : EPOCH - 1 : training on 276361 raw words (210027 effective words) took 1.3s, 157489 effective words/s\n",
            "2020-05-13 15:04:04,322 : INFO : EPOCH 2 - PROGRESS: at 72.48% examples, 139813 words/s, in_qsize 7, out_qsize 1\n",
            "2020-05-13 15:04:04,490 : INFO : worker thread finished; awaiting finish of 3 more threads\n",
            "2020-05-13 15:04:04,545 : INFO : worker thread finished; awaiting finish of 2 more threads\n",
            "2020-05-13 15:04:04,565 : INFO : worker thread finished; awaiting finish of 1 more threads\n",
            "2020-05-13 15:04:04,569 : INFO : worker thread finished; awaiting finish of 0 more threads\n",
            "2020-05-13 15:04:04,571 : INFO : EPOCH - 2 : training on 276361 raw words (210232 effective words) took 1.3s, 157452 effective words/s\n",
            "2020-05-13 15:04:05,699 : INFO : EPOCH 3 - PROGRESS: at 75.97% examples, 142152 words/s, in_qsize 7, out_qsize 0\n",
            "2020-05-13 15:04:05,869 : INFO : worker thread finished; awaiting finish of 3 more threads\n",
            "2020-05-13 15:04:05,886 : INFO : worker thread finished; awaiting finish of 2 more threads\n",
            "2020-05-13 15:04:05,902 : INFO : worker thread finished; awaiting finish of 1 more threads\n",
            "2020-05-13 15:04:05,908 : INFO : worker thread finished; awaiting finish of 0 more threads\n",
            "2020-05-13 15:04:05,909 : INFO : EPOCH - 3 : training on 276361 raw words (210206 effective words) took 1.3s, 158006 effective words/s\n",
            "2020-05-13 15:04:06,971 : INFO : EPOCH 4 - PROGRESS: at 68.75% examples, 137231 words/s, in_qsize 6, out_qsize 1\n",
            "2020-05-13 15:04:07,212 : INFO : worker thread finished; awaiting finish of 3 more threads\n",
            "2020-05-13 15:04:07,219 : INFO : worker thread finished; awaiting finish of 2 more threads\n",
            "2020-05-13 15:04:07,253 : INFO : worker thread finished; awaiting finish of 1 more threads\n",
            "2020-05-13 15:04:07,261 : INFO : worker thread finished; awaiting finish of 0 more threads\n",
            "2020-05-13 15:04:07,261 : INFO : EPOCH - 4 : training on 276361 raw words (210245 effective words) took 1.3s, 156645 effective words/s\n",
            "2020-05-13 15:04:08,274 : INFO : EPOCH 5 - PROGRESS: at 68.55% examples, 143811 words/s, in_qsize 7, out_qsize 0\n",
            "2020-05-13 15:04:08,545 : INFO : worker thread finished; awaiting finish of 3 more threads\n",
            "2020-05-13 15:04:08,552 : INFO : worker thread finished; awaiting finish of 2 more threads\n",
            "2020-05-13 15:04:08,595 : INFO : worker thread finished; awaiting finish of 1 more threads\n",
            "2020-05-13 15:04:08,607 : INFO : worker thread finished; awaiting finish of 0 more threads\n",
            "2020-05-13 15:04:08,608 : INFO : EPOCH - 5 : training on 276361 raw words (210218 effective words) took 1.3s, 157276 effective words/s\n",
            "2020-05-13 15:04:09,625 : INFO : EPOCH 6 - PROGRESS: at 72.19% examples, 150967 words/s, in_qsize 8, out_qsize 0\n",
            "2020-05-13 15:04:09,905 : INFO : worker thread finished; awaiting finish of 3 more threads\n",
            "2020-05-13 15:04:09,913 : INFO : worker thread finished; awaiting finish of 2 more threads\n",
            "2020-05-13 15:04:09,933 : INFO : worker thread finished; awaiting finish of 1 more threads\n",
            "2020-05-13 15:04:09,956 : INFO : worker thread finished; awaiting finish of 0 more threads\n",
            "2020-05-13 15:04:09,957 : INFO : EPOCH - 6 : training on 276361 raw words (210117 effective words) took 1.3s, 157114 effective words/s\n",
            "2020-05-13 15:04:10,999 : INFO : EPOCH 7 - PROGRESS: at 68.41% examples, 139945 words/s, in_qsize 7, out_qsize 0\n",
            "2020-05-13 15:04:11,221 : INFO : worker thread finished; awaiting finish of 3 more threads\n",
            "2020-05-13 15:04:11,277 : INFO : worker thread finished; awaiting finish of 2 more threads\n",
            "2020-05-13 15:04:11,286 : INFO : worker thread finished; awaiting finish of 1 more threads\n",
            "2020-05-13 15:04:11,310 : INFO : worker thread finished; awaiting finish of 0 more threads\n",
            "2020-05-13 15:04:11,311 : INFO : EPOCH - 7 : training on 276361 raw words (210177 effective words) took 1.3s, 156410 effective words/s\n",
            "2020-05-13 15:04:12,343 : INFO : EPOCH 8 - PROGRESS: at 72.19% examples, 148454 words/s, in_qsize 7, out_qsize 0\n",
            "2020-05-13 15:04:12,597 : INFO : worker thread finished; awaiting finish of 3 more threads\n",
            "2020-05-13 15:04:12,627 : INFO : worker thread finished; awaiting finish of 2 more threads\n",
            "2020-05-13 15:04:12,642 : INFO : worker thread finished; awaiting finish of 1 more threads\n",
            "2020-05-13 15:04:12,649 : INFO : worker thread finished; awaiting finish of 0 more threads\n",
            "2020-05-13 15:04:12,649 : INFO : EPOCH - 8 : training on 276361 raw words (209878 effective words) took 1.3s, 158001 effective words/s\n",
            "2020-05-13 15:04:13,667 : INFO : EPOCH 9 - PROGRESS: at 68.41% examples, 143142 words/s, in_qsize 7, out_qsize 0\n",
            "2020-05-13 15:04:13,911 : INFO : worker thread finished; awaiting finish of 3 more threads\n",
            "2020-05-13 15:04:13,962 : INFO : worker thread finished; awaiting finish of 2 more threads\n",
            "2020-05-13 15:04:13,971 : INFO : worker thread finished; awaiting finish of 1 more threads\n",
            "2020-05-13 15:04:13,999 : INFO : worker thread finished; awaiting finish of 0 more threads\n",
            "2020-05-13 15:04:14,001 : INFO : EPOCH - 9 : training on 276361 raw words (210025 effective words) took 1.3s, 156578 effective words/s\n",
            "2020-05-13 15:04:15,030 : INFO : EPOCH 10 - PROGRESS: at 68.41% examples, 141630 words/s, in_qsize 7, out_qsize 0\n",
            "2020-05-13 15:04:15,314 : INFO : worker thread finished; awaiting finish of 3 more threads\n",
            "2020-05-13 15:04:15,343 : INFO : worker thread finished; awaiting finish of 2 more threads\n",
            "2020-05-13 15:04:15,352 : INFO : worker thread finished; awaiting finish of 1 more threads\n",
            "2020-05-13 15:04:15,367 : INFO : worker thread finished; awaiting finish of 0 more threads\n",
            "2020-05-13 15:04:15,368 : INFO : EPOCH - 10 : training on 276361 raw words (210309 effective words) took 1.4s, 155073 effective words/s\n",
            "2020-05-13 15:04:16,439 : INFO : EPOCH 11 - PROGRESS: at 72.15% examples, 143165 words/s, in_qsize 7, out_qsize 0\n",
            "2020-05-13 15:04:16,693 : INFO : worker thread finished; awaiting finish of 3 more threads\n",
            "2020-05-13 15:04:16,718 : INFO : worker thread finished; awaiting finish of 2 more threads\n",
            "2020-05-13 15:04:16,755 : INFO : worker thread finished; awaiting finish of 1 more threads\n",
            "2020-05-13 15:04:16,762 : INFO : worker thread finished; awaiting finish of 0 more threads\n",
            "2020-05-13 15:04:16,763 : INFO : EPOCH - 11 : training on 276361 raw words (210165 effective words) took 1.4s, 151728 effective words/s\n",
            "2020-05-13 15:04:17,814 : INFO : EPOCH 12 - PROGRESS: at 68.41% examples, 143156 words/s, in_qsize 7, out_qsize 0\n",
            "2020-05-13 15:04:18,125 : INFO : worker thread finished; awaiting finish of 3 more threads\n",
            "2020-05-13 15:04:18,138 : INFO : worker thread finished; awaiting finish of 2 more threads\n",
            "2020-05-13 15:04:18,149 : INFO : worker thread finished; awaiting finish of 1 more threads\n",
            "2020-05-13 15:04:18,166 : INFO : worker thread finished; awaiting finish of 0 more threads\n",
            "2020-05-13 15:04:18,167 : INFO : EPOCH - 12 : training on 276361 raw words (209953 effective words) took 1.4s, 154321 effective words/s\n",
            "2020-05-13 15:04:19,185 : INFO : EPOCH 13 - PROGRESS: at 68.41% examples, 142832 words/s, in_qsize 7, out_qsize 0\n",
            "2020-05-13 15:04:19,452 : INFO : worker thread finished; awaiting finish of 3 more threads\n",
            "2020-05-13 15:04:19,502 : INFO : worker thread finished; awaiting finish of 2 more threads\n",
            "2020-05-13 15:04:19,518 : INFO : worker thread finished; awaiting finish of 1 more threads\n",
            "2020-05-13 15:04:19,530 : INFO : worker thread finished; awaiting finish of 0 more threads\n",
            "2020-05-13 15:04:19,531 : INFO : EPOCH - 13 : training on 276361 raw words (210096 effective words) took 1.4s, 154944 effective words/s\n",
            "2020-05-13 15:04:20,559 : INFO : EPOCH 14 - PROGRESS: at 64.97% examples, 134289 words/s, in_qsize 8, out_qsize 2\n",
            "2020-05-13 15:04:20,799 : INFO : worker thread finished; awaiting finish of 3 more threads\n",
            "2020-05-13 15:04:20,853 : INFO : worker thread finished; awaiting finish of 2 more threads\n",
            "2020-05-13 15:04:20,889 : INFO : worker thread finished; awaiting finish of 1 more threads\n",
            "2020-05-13 15:04:20,891 : INFO : worker thread finished; awaiting finish of 0 more threads\n",
            "2020-05-13 15:04:20,894 : INFO : EPOCH - 14 : training on 276361 raw words (210114 effective words) took 1.4s, 155434 effective words/s\n",
            "2020-05-13 15:04:21,947 : INFO : EPOCH 15 - PROGRESS: at 68.75% examples, 138615 words/s, in_qsize 6, out_qsize 1\n",
            "2020-05-13 15:04:22,192 : INFO : worker thread finished; awaiting finish of 3 more threads\n",
            "2020-05-13 15:04:22,231 : INFO : worker thread finished; awaiting finish of 2 more threads\n",
            "2020-05-13 15:04:22,235 : INFO : worker thread finished; awaiting finish of 1 more threads\n",
            "2020-05-13 15:04:22,264 : INFO : worker thread finished; awaiting finish of 0 more threads\n",
            "2020-05-13 15:04:22,265 : INFO : EPOCH - 15 : training on 276361 raw words (210157 effective words) took 1.4s, 154631 effective words/s\n",
            "2020-05-13 15:04:23,291 : INFO : EPOCH 16 - PROGRESS: at 72.19% examples, 149550 words/s, in_qsize 7, out_qsize 0\n",
            "2020-05-13 15:04:23,489 : INFO : worker thread finished; awaiting finish of 3 more threads\n",
            "2020-05-13 15:04:23,545 : INFO : worker thread finished; awaiting finish of 2 more threads\n",
            "2020-05-13 15:04:23,577 : INFO : worker thread finished; awaiting finish of 1 more threads\n",
            "2020-05-13 15:04:23,600 : INFO : worker thread finished; awaiting finish of 0 more threads\n",
            "2020-05-13 15:04:23,601 : INFO : EPOCH - 16 : training on 276361 raw words (210029 effective words) took 1.3s, 158531 effective words/s\n",
            "2020-05-13 15:04:24,630 : INFO : EPOCH 17 - PROGRESS: at 68.41% examples, 141442 words/s, in_qsize 8, out_qsize 0\n",
            "2020-05-13 15:04:24,864 : INFO : worker thread finished; awaiting finish of 3 more threads\n",
            "2020-05-13 15:04:24,899 : INFO : worker thread finished; awaiting finish of 2 more threads\n",
            "2020-05-13 15:04:24,928 : INFO : worker thread finished; awaiting finish of 1 more threads\n",
            "2020-05-13 15:04:24,936 : INFO : worker thread finished; awaiting finish of 0 more threads\n",
            "2020-05-13 15:04:24,937 : INFO : EPOCH - 17 : training on 276361 raw words (210151 effective words) took 1.3s, 158449 effective words/s\n",
            "2020-05-13 15:04:25,988 : INFO : EPOCH 18 - PROGRESS: at 68.41% examples, 138525 words/s, in_qsize 8, out_qsize 1\n",
            "2020-05-13 15:04:26,200 : INFO : worker thread finished; awaiting finish of 3 more threads\n",
            "2020-05-13 15:04:26,227 : INFO : worker thread finished; awaiting finish of 2 more threads\n",
            "2020-05-13 15:04:26,267 : INFO : worker thread finished; awaiting finish of 1 more threads\n",
            "2020-05-13 15:04:26,270 : INFO : worker thread finished; awaiting finish of 0 more threads\n",
            "2020-05-13 15:04:26,272 : INFO : EPOCH - 18 : training on 276361 raw words (210187 effective words) took 1.3s, 158617 effective words/s\n",
            "2020-05-13 15:04:27,322 : INFO : EPOCH 19 - PROGRESS: at 68.75% examples, 139042 words/s, in_qsize 6, out_qsize 1\n",
            "2020-05-13 15:04:27,541 : INFO : worker thread finished; awaiting finish of 3 more threads\n",
            "2020-05-13 15:04:27,562 : INFO : worker thread finished; awaiting finish of 2 more threads\n",
            "2020-05-13 15:04:27,615 : INFO : worker thread finished; awaiting finish of 1 more threads\n",
            "2020-05-13 15:04:27,633 : INFO : worker thread finished; awaiting finish of 0 more threads\n",
            "2020-05-13 15:04:27,634 : INFO : EPOCH - 19 : training on 276361 raw words (210002 effective words) took 1.3s, 155693 effective words/s\n",
            "2020-05-13 15:04:28,650 : INFO : EPOCH 20 - PROGRESS: at 68.41% examples, 143490 words/s, in_qsize 7, out_qsize 0\n",
            "2020-05-13 15:04:28,887 : INFO : worker thread finished; awaiting finish of 3 more threads\n",
            "2020-05-13 15:04:28,916 : INFO : worker thread finished; awaiting finish of 2 more threads\n",
            "2020-05-13 15:04:28,936 : INFO : worker thread finished; awaiting finish of 1 more threads\n",
            "2020-05-13 15:04:28,964 : INFO : worker thread finished; awaiting finish of 0 more threads\n",
            "2020-05-13 15:04:28,965 : INFO : EPOCH - 20 : training on 276361 raw words (209994 effective words) took 1.3s, 159059 effective words/s\n",
            "2020-05-13 15:04:30,069 : INFO : EPOCH 21 - PROGRESS: at 72.19% examples, 138784 words/s, in_qsize 7, out_qsize 0\n",
            "2020-05-13 15:04:30,295 : INFO : worker thread finished; awaiting finish of 3 more threads\n",
            "2020-05-13 15:04:30,307 : INFO : worker thread finished; awaiting finish of 2 more threads\n",
            "2020-05-13 15:04:30,320 : INFO : worker thread finished; awaiting finish of 1 more threads\n",
            "2020-05-13 15:04:30,328 : INFO : worker thread finished; awaiting finish of 0 more threads\n",
            "2020-05-13 15:04:30,329 : INFO : EPOCH - 21 : training on 276361 raw words (210296 effective words) took 1.4s, 155294 effective words/s\n",
            "2020-05-13 15:04:31,348 : INFO : EPOCH 22 - PROGRESS: at 68.41% examples, 143044 words/s, in_qsize 6, out_qsize 1\n",
            "2020-05-13 15:04:31,552 : INFO : worker thread finished; awaiting finish of 3 more threads\n",
            "2020-05-13 15:04:31,631 : INFO : worker thread finished; awaiting finish of 2 more threads\n",
            "2020-05-13 15:04:31,653 : INFO : worker thread finished; awaiting finish of 1 more threads\n",
            "2020-05-13 15:04:31,674 : INFO : worker thread finished; awaiting finish of 0 more threads\n",
            "2020-05-13 15:04:31,675 : INFO : EPOCH - 22 : training on 276361 raw words (209941 effective words) took 1.3s, 157455 effective words/s\n",
            "2020-05-13 15:04:32,753 : INFO : EPOCH 23 - PROGRESS: at 75.93% examples, 149522 words/s, in_qsize 7, out_qsize 0\n",
            "2020-05-13 15:04:32,921 : INFO : worker thread finished; awaiting finish of 3 more threads\n",
            "2020-05-13 15:04:32,990 : INFO : worker thread finished; awaiting finish of 2 more threads\n",
            "2020-05-13 15:04:32,998 : INFO : worker thread finished; awaiting finish of 1 more threads\n",
            "2020-05-13 15:04:33,013 : INFO : worker thread finished; awaiting finish of 0 more threads\n",
            "2020-05-13 15:04:33,014 : INFO : EPOCH - 23 : training on 276361 raw words (210245 effective words) took 1.3s, 158273 effective words/s\n",
            "2020-05-13 15:04:34,064 : INFO : EPOCH 24 - PROGRESS: at 68.41% examples, 138720 words/s, in_qsize 7, out_qsize 0\n",
            "2020-05-13 15:04:34,333 : INFO : worker thread finished; awaiting finish of 3 more threads\n",
            "2020-05-13 15:04:34,358 : INFO : worker thread finished; awaiting finish of 2 more threads\n",
            "2020-05-13 15:04:34,376 : INFO : worker thread finished; awaiting finish of 1 more threads\n",
            "2020-05-13 15:04:34,386 : INFO : worker thread finished; awaiting finish of 0 more threads\n",
            "2020-05-13 15:04:34,387 : INFO : EPOCH - 24 : training on 276361 raw words (210087 effective words) took 1.4s, 154194 effective words/s\n",
            "2020-05-13 15:04:35,430 : INFO : EPOCH 25 - PROGRESS: at 68.75% examples, 139445 words/s, in_qsize 7, out_qsize 2\n",
            "2020-05-13 15:04:35,632 : INFO : worker thread finished; awaiting finish of 3 more threads\n",
            "2020-05-13 15:04:35,702 : INFO : worker thread finished; awaiting finish of 2 more threads\n",
            "2020-05-13 15:04:35,710 : INFO : worker thread finished; awaiting finish of 1 more threads\n",
            "2020-05-13 15:04:35,724 : INFO : worker thread finished; awaiting finish of 0 more threads\n",
            "2020-05-13 15:04:35,725 : INFO : EPOCH - 25 : training on 276361 raw words (209804 effective words) took 1.3s, 158062 effective words/s\n",
            "2020-05-13 15:04:36,876 : INFO : EPOCH 26 - PROGRESS: at 75.93% examples, 139692 words/s, in_qsize 6, out_qsize 1\n",
            "2020-05-13 15:04:37,023 : INFO : worker thread finished; awaiting finish of 3 more threads\n",
            "2020-05-13 15:04:37,031 : INFO : worker thread finished; awaiting finish of 2 more threads\n",
            "2020-05-13 15:04:37,054 : INFO : worker thread finished; awaiting finish of 1 more threads\n",
            "2020-05-13 15:04:37,059 : INFO : worker thread finished; awaiting finish of 0 more threads\n",
            "2020-05-13 15:04:37,060 : INFO : EPOCH - 26 : training on 276361 raw words (210035 effective words) took 1.3s, 158520 effective words/s\n",
            "2020-05-13 15:04:38,108 : INFO : EPOCH 27 - PROGRESS: at 72.48% examples, 146498 words/s, in_qsize 7, out_qsize 0\n",
            "2020-05-13 15:04:38,331 : INFO : worker thread finished; awaiting finish of 3 more threads\n",
            "2020-05-13 15:04:38,341 : INFO : worker thread finished; awaiting finish of 2 more threads\n",
            "2020-05-13 15:04:38,396 : INFO : worker thread finished; awaiting finish of 1 more threads\n",
            "2020-05-13 15:04:38,403 : INFO : worker thread finished; awaiting finish of 0 more threads\n",
            "2020-05-13 15:04:38,404 : INFO : EPOCH - 27 : training on 276361 raw words (210117 effective words) took 1.3s, 157636 effective words/s\n",
            "2020-05-13 15:04:39,519 : INFO : EPOCH 28 - PROGRESS: at 72.19% examples, 137383 words/s, in_qsize 4, out_qsize 3\n",
            "2020-05-13 15:04:39,697 : INFO : worker thread finished; awaiting finish of 3 more threads\n",
            "2020-05-13 15:04:39,698 : INFO : worker thread finished; awaiting finish of 2 more threads\n",
            "2020-05-13 15:04:39,699 : INFO : worker thread finished; awaiting finish of 1 more threads\n",
            "2020-05-13 15:04:39,745 : INFO : worker thread finished; awaiting finish of 0 more threads\n",
            "2020-05-13 15:04:39,746 : INFO : EPOCH - 28 : training on 276361 raw words (210169 effective words) took 1.3s, 157767 effective words/s\n",
            "2020-05-13 15:04:40,806 : INFO : EPOCH 29 - PROGRESS: at 72.15% examples, 144571 words/s, in_qsize 7, out_qsize 0\n",
            "2020-05-13 15:04:40,994 : INFO : worker thread finished; awaiting finish of 3 more threads\n",
            "2020-05-13 15:04:41,048 : INFO : worker thread finished; awaiting finish of 2 more threads\n",
            "2020-05-13 15:04:41,063 : INFO : worker thread finished; awaiting finish of 1 more threads\n",
            "2020-05-13 15:04:41,074 : INFO : worker thread finished; awaiting finish of 0 more threads\n",
            "2020-05-13 15:04:41,075 : INFO : EPOCH - 29 : training on 276361 raw words (210048 effective words) took 1.3s, 159345 effective words/s\n",
            "2020-05-13 15:04:42,163 : INFO : EPOCH 30 - PROGRESS: at 72.19% examples, 140810 words/s, in_qsize 6, out_qsize 1\n",
            "2020-05-13 15:04:42,361 : INFO : worker thread finished; awaiting finish of 3 more threads\n",
            "2020-05-13 15:04:42,383 : INFO : worker thread finished; awaiting finish of 2 more threads\n",
            "2020-05-13 15:04:42,389 : INFO : worker thread finished; awaiting finish of 1 more threads\n",
            "2020-05-13 15:04:42,410 : INFO : worker thread finished; awaiting finish of 0 more threads\n",
            "2020-05-13 15:04:42,411 : INFO : EPOCH - 30 : training on 276361 raw words (210019 effective words) took 1.3s, 158429 effective words/s\n",
            "2020-05-13 15:04:43,431 : INFO : EPOCH 31 - PROGRESS: at 68.71% examples, 142810 words/s, in_qsize 7, out_qsize 0\n",
            "2020-05-13 15:04:43,669 : INFO : worker thread finished; awaiting finish of 3 more threads\n",
            "2020-05-13 15:04:43,696 : INFO : worker thread finished; awaiting finish of 2 more threads\n",
            "2020-05-13 15:04:43,728 : INFO : worker thread finished; awaiting finish of 1 more threads\n",
            "2020-05-13 15:04:43,750 : INFO : worker thread finished; awaiting finish of 0 more threads\n",
            "2020-05-13 15:04:43,751 : INFO : EPOCH - 31 : training on 276361 raw words (210002 effective words) took 1.3s, 157899 effective words/s\n",
            "2020-05-13 15:04:44,828 : INFO : EPOCH 32 - PROGRESS: at 72.19% examples, 142451 words/s, in_qsize 7, out_qsize 0\n",
            "2020-05-13 15:04:45,014 : INFO : worker thread finished; awaiting finish of 3 more threads\n",
            "2020-05-13 15:04:45,062 : INFO : worker thread finished; awaiting finish of 2 more threads\n",
            "2020-05-13 15:04:45,071 : INFO : worker thread finished; awaiting finish of 1 more threads\n",
            "2020-05-13 15:04:45,078 : INFO : worker thread finished; awaiting finish of 0 more threads\n",
            "2020-05-13 15:04:45,079 : INFO : EPOCH - 32 : training on 276361 raw words (209953 effective words) took 1.3s, 159574 effective words/s\n",
            "2020-05-13 15:04:46,158 : INFO : EPOCH 33 - PROGRESS: at 72.19% examples, 141635 words/s, in_qsize 7, out_qsize 0\n",
            "2020-05-13 15:04:46,346 : INFO : worker thread finished; awaiting finish of 3 more threads\n",
            "2020-05-13 15:04:46,401 : INFO : worker thread finished; awaiting finish of 2 more threads\n",
            "2020-05-13 15:04:46,420 : INFO : worker thread finished; awaiting finish of 1 more threads\n",
            "2020-05-13 15:04:46,432 : INFO : worker thread finished; awaiting finish of 0 more threads\n",
            "2020-05-13 15:04:46,433 : INFO : EPOCH - 33 : training on 276361 raw words (210022 effective words) took 1.3s, 156075 effective words/s\n",
            "2020-05-13 15:04:47,452 : INFO : EPOCH 34 - PROGRESS: at 68.41% examples, 142909 words/s, in_qsize 7, out_qsize 0\n",
            "2020-05-13 15:04:47,680 : INFO : worker thread finished; awaiting finish of 3 more threads\n",
            "2020-05-13 15:04:47,718 : INFO : worker thread finished; awaiting finish of 2 more threads\n",
            "2020-05-13 15:04:47,753 : INFO : worker thread finished; awaiting finish of 1 more threads\n",
            "2020-05-13 15:04:47,762 : INFO : worker thread finished; awaiting finish of 0 more threads\n",
            "2020-05-13 15:04:47,763 : INFO : EPOCH - 34 : training on 276361 raw words (210014 effective words) took 1.3s, 159143 effective words/s\n",
            "2020-05-13 15:04:48,817 : INFO : EPOCH 35 - PROGRESS: at 75.93% examples, 152521 words/s, in_qsize 7, out_qsize 0\n",
            "2020-05-13 15:04:48,966 : INFO : worker thread finished; awaiting finish of 3 more threads\n",
            "2020-05-13 15:04:49,080 : INFO : worker thread finished; awaiting finish of 2 more threads\n",
            "2020-05-13 15:04:49,082 : INFO : worker thread finished; awaiting finish of 1 more threads\n",
            "2020-05-13 15:04:49,082 : INFO : worker thread finished; awaiting finish of 0 more threads\n",
            "2020-05-13 15:04:49,085 : INFO : EPOCH - 35 : training on 276361 raw words (210040 effective words) took 1.3s, 160091 effective words/s\n",
            "2020-05-13 15:04:50,164 : INFO : EPOCH 36 - PROGRESS: at 75.93% examples, 149362 words/s, in_qsize 7, out_qsize 0\n",
            "2020-05-13 15:04:50,370 : INFO : worker thread finished; awaiting finish of 3 more threads\n",
            "2020-05-13 15:04:50,382 : INFO : worker thread finished; awaiting finish of 2 more threads\n",
            "2020-05-13 15:04:50,401 : INFO : worker thread finished; awaiting finish of 1 more threads\n",
            "2020-05-13 15:04:50,423 : INFO : worker thread finished; awaiting finish of 0 more threads\n",
            "2020-05-13 15:04:50,424 : INFO : EPOCH - 36 : training on 276361 raw words (209841 effective words) took 1.3s, 158245 effective words/s\n",
            "2020-05-13 15:04:51,454 : INFO : EPOCH 37 - PROGRESS: at 68.75% examples, 141478 words/s, in_qsize 7, out_qsize 0\n",
            "2020-05-13 15:04:51,706 : INFO : worker thread finished; awaiting finish of 3 more threads\n",
            "2020-05-13 15:04:51,714 : INFO : worker thread finished; awaiting finish of 2 more threads\n",
            "2020-05-13 15:04:51,716 : INFO : worker thread finished; awaiting finish of 1 more threads\n",
            "2020-05-13 15:04:51,754 : INFO : worker thread finished; awaiting finish of 0 more threads\n",
            "2020-05-13 15:04:51,754 : INFO : EPOCH - 37 : training on 276361 raw words (210265 effective words) took 1.3s, 159232 effective words/s\n",
            "2020-05-13 15:04:52,783 : INFO : EPOCH 38 - PROGRESS: at 72.19% examples, 148702 words/s, in_qsize 7, out_qsize 0\n",
            "2020-05-13 15:04:53,069 : INFO : worker thread finished; awaiting finish of 3 more threads\n",
            "2020-05-13 15:04:53,073 : INFO : worker thread finished; awaiting finish of 2 more threads\n",
            "2020-05-13 15:04:53,075 : INFO : worker thread finished; awaiting finish of 1 more threads\n",
            "2020-05-13 15:04:53,080 : INFO : worker thread finished; awaiting finish of 0 more threads\n",
            "2020-05-13 15:04:53,081 : INFO : EPOCH - 38 : training on 276361 raw words (209686 effective words) took 1.3s, 159269 effective words/s\n",
            "2020-05-13 15:04:54,109 : INFO : EPOCH 39 - PROGRESS: at 68.41% examples, 141533 words/s, in_qsize 8, out_qsize 1\n",
            "2020-05-13 15:04:54,346 : INFO : worker thread finished; awaiting finish of 3 more threads\n",
            "2020-05-13 15:04:54,368 : INFO : worker thread finished; awaiting finish of 2 more threads\n",
            "2020-05-13 15:04:54,398 : INFO : worker thread finished; awaiting finish of 1 more threads\n",
            "2020-05-13 15:04:54,412 : INFO : worker thread finished; awaiting finish of 0 more threads\n",
            "2020-05-13 15:04:54,412 : INFO : EPOCH - 39 : training on 276361 raw words (209831 effective words) took 1.3s, 158871 effective words/s\n",
            "2020-05-13 15:04:55,457 : INFO : EPOCH 40 - PROGRESS: at 68.41% examples, 139502 words/s, in_qsize 7, out_qsize 0\n",
            "2020-05-13 15:04:55,679 : INFO : worker thread finished; awaiting finish of 3 more threads\n",
            "2020-05-13 15:04:55,680 : INFO : worker thread finished; awaiting finish of 2 more threads\n",
            "2020-05-13 15:04:55,741 : INFO : worker thread finished; awaiting finish of 1 more threads\n",
            "2020-05-13 15:04:55,760 : INFO : worker thread finished; awaiting finish of 0 more threads\n",
            "2020-05-13 15:04:55,761 : INFO : EPOCH - 40 : training on 276361 raw words (210081 effective words) took 1.3s, 156902 effective words/s\n",
            "2020-05-13 15:04:55,763 : INFO : training on a 11054440 raw words (8402778 effective words) took 53.9s, 155953 effective words/s\n"
          ],
          "name": "stderr"
        }
      ]
    },
    {
      "cell_type": "markdown",
      "metadata": {
        "id": "1TEOurK0Ep0s",
        "colab_type": "text"
      },
      "source": [
        "### Embedding matrix"
      ]
    },
    {
      "cell_type": "code",
      "metadata": {
        "id": "hgZ1yOonEp0v",
        "colab_type": "code",
        "outputId": "14a74316-4bd3-4928-bd65-130e24edf4c9",
        "colab": {
          "base_uri": "https://localhost:8080/",
          "height": 34
        }
      },
      "source": [
        "# Code if you want to use the GloVe Embedding \n",
        "embeddings_index = {}\n",
        "f = open(os.path.join('glove.6B.100d.txt'))\n",
        "for line in f:\n",
        "    values = line.split()\n",
        "    word = values[0]\n",
        "    coefs = np.asarray(values[1:], dtype='float32')\n",
        "    embeddings_index[word] = coefs\n",
        "f.close()\n",
        "\n",
        "print('Found %s word vectors.' % len(embeddings_index))"
      ],
      "execution_count": 0,
      "outputs": [
        {
          "output_type": "stream",
          "text": [
            "Found 400000 word vectors.\n"
          ],
          "name": "stdout"
        }
      ]
    },
    {
      "cell_type": "code",
      "metadata": {
        "id": "GJcHeNNBh_tY",
        "colab_type": "code",
        "outputId": "22f593c6-0025-4a44-98e2-6a01f3721767",
        "colab": {
          "base_uri": "https://localhost:8080/",
          "height": 34
        }
      },
      "source": [
        "vocabulary_size = len(tokenizer.word_index)\n",
        "vocabulary_size"
      ],
      "execution_count": 0,
      "outputs": [
        {
          "output_type": "execute_result",
          "data": {
            "text/plain": [
              "21250"
            ]
          },
          "metadata": {
            "tags": []
          },
          "execution_count": 83
        }
      ]
    },
    {
      "cell_type": "code",
      "metadata": {
        "id": "SWs6h82rEp00",
        "colab_type": "code",
        "colab": {}
      },
      "source": [
        "# Construct the embedding matrix for \n",
        "embedding_matrix = np.zeros((vocabulary_size+1, EMBEDDING_SIZE))\n",
        "for word, i in tokenizer.word_index.items():\n",
        "    try:\n",
        "        embedding_vector = model.wv.word_vec(word) \n",
        "        #embedding_vector = embeddings_index[word] uncomment if you want to use GloVe\n",
        "        if embedding_vector is not None:\n",
        "            embedding_matrix[i] = embedding_vector\n",
        "    except KeyError:\n",
        "        print(word)"
      ],
      "execution_count": 0,
      "outputs": []
    },
    {
      "cell_type": "markdown",
      "metadata": {
        "id": "wn-BFddD4cjG",
        "colab_type": "text"
      },
      "source": [
        "# Convolutional Neural Network"
      ]
    },
    {
      "cell_type": "code",
      "metadata": {
        "id": "z9Gp6GErEp08",
        "colab_type": "code",
        "colab": {}
      },
      "source": [
        "# Define the layers\n",
        "\n",
        "inp = Input(shape = (max_seq,))\n",
        "\n",
        "\n",
        "y = Embedding(vocabulary_size+1, EMBEDDING_SIZE, weights = [embedding_matrix], input_length=max_seq, trainable = True)(inp)\n",
        "y = Dropout(0.5)(y)\n",
        "y = Conv1D(64, 4, activation='relu')(y)\n",
        "y = GlobalMaxPooling1D()(y)\n",
        "y = Dense(10, activation = 'relu')(y)\n",
        "\n",
        "# The output depends on the task so we define one for a binary classification and one for prediction 3 classes\n",
        "ab = Dense(1, activation = 'sigmoid')(y)\n",
        "c = Dense(3, activation = 'sigmoid')(y)\n"
      ],
      "execution_count": 0,
      "outputs": []
    },
    {
      "cell_type": "markdown",
      "metadata": {
        "id": "-Yyxow9jT5Hh",
        "colab_type": "text"
      },
      "source": [
        "Task A"
      ]
    },
    {
      "cell_type": "code",
      "metadata": {
        "id": "M_IUjogBEp1B",
        "colab_type": "code",
        "outputId": "e95fc1e4-5dad-4e39-fdbb-48a37c68d12c",
        "colab": {
          "base_uri": "https://localhost:8080/",
          "height": 391
        }
      },
      "source": [
        "model_conv_a = Model(inputs = inp, outputs = ab)\n",
        "model_conv_a.compile(loss = \"binary_crossentropy\", optimizer='adam', metrics=[\"accuracy\"] )\n",
        "model_conv_a.summary()"
      ],
      "execution_count": 0,
      "outputs": [
        {
          "output_type": "stream",
          "text": [
            "Model: \"model_1\"\n",
            "_________________________________________________________________\n",
            "Layer (type)                 Output Shape              Param #   \n",
            "=================================================================\n",
            "input_1 (InputLayer)         (None, 63)                0         \n",
            "_________________________________________________________________\n",
            "embedding_1 (Embedding)      (None, 63, 100)           2125100   \n",
            "_________________________________________________________________\n",
            "dropout_1 (Dropout)          (None, 63, 100)           0         \n",
            "_________________________________________________________________\n",
            "conv1d_1 (Conv1D)            (None, 60, 64)            25664     \n",
            "_________________________________________________________________\n",
            "global_max_pooling1d_1 (Glob (None, 64)                0         \n",
            "_________________________________________________________________\n",
            "dense_1 (Dense)              (None, 10)                650       \n",
            "_________________________________________________________________\n",
            "dense_2 (Dense)              (None, 1)                 11        \n",
            "=================================================================\n",
            "Total params: 2,151,425\n",
            "Trainable params: 2,151,425\n",
            "Non-trainable params: 0\n",
            "_________________________________________________________________\n"
          ],
          "name": "stdout"
        }
      ]
    },
    {
      "cell_type": "code",
      "metadata": {
        "id": "Kaestft8Ep1F",
        "colab_type": "code",
        "colab": {}
      },
      "source": [
        "model_conv_a.fit(np.array(X_train_a), y_train_a, validation_data=(X_test_a,y_test_a), epochs = 10)"
      ],
      "execution_count": 0,
      "outputs": []
    },
    {
      "cell_type": "code",
      "metadata": {
        "scrolled": true,
        "id": "I7NfP1CMEp1L",
        "colab_type": "code",
        "outputId": "df616f4e-683f-493c-dbed-d5068c5ce2c0",
        "colab": {
          "base_uri": "https://localhost:8080/",
          "height": 170
        }
      },
      "source": [
        "y_pred_a = model_conv_a.predict(X_test_a)\n",
        "y_pred_a = y_pred_a>0.5\n",
        "print(classification_report(y_test_a, y_pred_a, target_names= [\"OFF\",'NOT']))"
      ],
      "execution_count": 0,
      "outputs": [
        {
          "output_type": "stream",
          "text": [
            "              precision    recall  f1-score   support\n",
            "\n",
            "         OFF       0.65      0.46      0.54       838\n",
            "         NOT       0.78      0.89      0.83      1810\n",
            "\n",
            "    accuracy                           0.75      2648\n",
            "   macro avg       0.72      0.67      0.69      2648\n",
            "weighted avg       0.74      0.75      0.74      2648\n",
            "\n"
          ],
          "name": "stdout"
        }
      ]
    },
    {
      "cell_type": "markdown",
      "metadata": {
        "id": "xSAjStlUTyM-",
        "colab_type": "text"
      },
      "source": [
        "Task B"
      ]
    },
    {
      "cell_type": "code",
      "metadata": {
        "id": "t5ZevFQVEp1P",
        "colab_type": "code",
        "colab": {}
      },
      "source": [
        "model_conv_b = Model(inputs = inp, outputs = ab)\n",
        "model_conv_b.compile(loss='binary_crossentropy', optimizer='adam', metrics=[\"accuracy\"] )\n",
        "model_conv_b.fit(np.array(X_train_b), y_train_b, validation_data=(X_test_b,y_test_b), epochs = 10)"
      ],
      "execution_count": 0,
      "outputs": []
    },
    {
      "cell_type": "code",
      "metadata": {
        "id": "6UNQHkxvEp1X",
        "colab_type": "code",
        "outputId": "374131cd-02e0-4acd-dcfa-48ebec86d121",
        "colab": {
          "base_uri": "https://localhost:8080/",
          "height": 170
        }
      },
      "source": [
        "y_pred_b = model_conv_b.predict(X_test_b)\n",
        "y_pred_b = y_pred_b>0.5\n",
        "print(classification_report(y_test_b, y_pred_b, target_names= [\"UNT\",'TIN']))"
      ],
      "execution_count": 0,
      "outputs": [
        {
          "output_type": "stream",
          "text": [
            "              precision    recall  f1-score   support\n",
            "\n",
            "         UNT       0.13      0.30      0.18        92\n",
            "         TIN       0.90      0.76      0.83       788\n",
            "\n",
            "    accuracy                           0.71       880\n",
            "   macro avg       0.52      0.53      0.50       880\n",
            "weighted avg       0.82      0.71      0.76       880\n",
            "\n"
          ],
          "name": "stdout"
        }
      ]
    },
    {
      "cell_type": "code",
      "metadata": {
        "id": "rVZE4NQS4S0w",
        "colab_type": "code",
        "outputId": "296c9988-cb90-4fab-9a06-382566c0e154",
        "colab": {
          "base_uri": "https://localhost:8080/",
          "height": 51
        }
      },
      "source": [
        "from sklearn.metrics import confusion_matrix\n",
        "cm = confusion_matrix((y_test_b),(y_pred_b))\n",
        "cm"
      ],
      "execution_count": 0,
      "outputs": [
        {
          "output_type": "execute_result",
          "data": {
            "text/plain": [
              "array([[ 28,  64],\n",
              "       [189, 599]])"
            ]
          },
          "metadata": {
            "tags": []
          },
          "execution_count": 91
        }
      ]
    },
    {
      "cell_type": "code",
      "metadata": {
        "id": "LK2tH93PL_J5",
        "colab_type": "code",
        "colab": {}
      },
      "source": [
        "model_conv_c = Model(inputs = inp, outputs = c)\n",
        "model_conv_c.compile(loss='binary_crossentropy', optimizer='adam', metrics=[\"accuracy\"] )\n",
        "dummy_labels_train = keras.utils.np_utils.to_categorical(y_train_c)\n",
        "dummy_labels_test = keras.utils.np_utils.to_categorical(y_test_c)\n",
        "model_conv_c.fit(np.array(X_train_c), dummy_labels_train, validation_data=(X_test_c,dummy_labels_test), epochs = 10, batch_size = 20)"
      ],
      "execution_count": 0,
      "outputs": []
    },
    {
      "cell_type": "code",
      "metadata": {
        "id": "-ZCksVP5MCO7",
        "colab_type": "code",
        "outputId": "e334d3ec-24e5-4f3b-9f42-0ecb48136125",
        "colab": {
          "base_uri": "https://localhost:8080/",
          "height": 187
        }
      },
      "source": [
        "y_pred_c = model_conv_c.predict(X_test_c)\n",
        "y_pred_c = np.argmax(y_pred_c,axis=1)\n",
        "print(classification_report(y_test_c, y_pred_c, target_names= [\"IND\",'OTH', \"GRP\"]))"
      ],
      "execution_count": 0,
      "outputs": [
        {
          "output_type": "stream",
          "text": [
            "              precision    recall  f1-score   support\n",
            "\n",
            "         IND       0.68      0.86      0.76       487\n",
            "         OTH       0.13      0.20      0.16        65\n",
            "         GRP       0.54      0.13      0.21       224\n",
            "\n",
            "    accuracy                           0.60       776\n",
            "   macro avg       0.45      0.40      0.38       776\n",
            "weighted avg       0.59      0.60      0.55       776\n",
            "\n"
          ],
          "name": "stdout"
        }
      ]
    },
    {
      "cell_type": "markdown",
      "metadata": {
        "id": "usIYn1mo4wSH",
        "colab_type": "text"
      },
      "source": [
        "# Recurrent Neural Network - Bidirectional LSTM + CNN"
      ]
    },
    {
      "cell_type": "code",
      "metadata": {
        "id": "TSZ3aymfmKsE",
        "colab_type": "code",
        "colab": {}
      },
      "source": [
        "inp = Input(shape = (max_seq,))\n",
        "\n",
        "x = Embedding(vocabulary_size+1, EMBEDDING_SIZE, weights = [embedding_matrix], trainable = True)(inp)\n",
        "x = SpatialDropout1D(0.5)(x)\n",
        "x = Bidirectional(LSTM(128, return_sequences = True))(x)\n",
        "x = Conv1D(64, kernel_size = 2, padding = \"valid\", kernel_initializer = \"he_uniform\")(x)\n",
        "avg_pool = GlobalAveragePooling1D()(x)\n",
        "max_pool = GlobalMaxPooling1D()(x)\n",
        "x = concatenate([avg_pool, max_pool])\n",
        "x = Dense(10, activation = \"relu\")(x)\n",
        "\n",
        "a = Dense(1, activation = \"sigmoid\")(x)\n",
        "c = Dense(3, activation = \"softmax\")(x)\n",
        "\n",
        "model_a = Model(inputs = inp, outputs = a)\n",
        "model_b = Model(inputs = inp, outputs = a)\n",
        "model_c = Model(inputs = inp, outputs = c)"
      ],
      "execution_count": 0,
      "outputs": []
    },
    {
      "cell_type": "markdown",
      "metadata": {
        "id": "00wNnenJUNCr",
        "colab_type": "text"
      },
      "source": [
        "Task A"
      ]
    },
    {
      "cell_type": "code",
      "metadata": {
        "colab_type": "code",
        "id": "AC1T3644hmnt",
        "colab": {}
      },
      "source": [
        "model_a.compile( loss = \"binary_crossentropy\", optimizer = Adam(lr=0.001), metrics = [\"accuracy\"])\n",
        "model_a.summary()"
      ],
      "execution_count": 0,
      "outputs": []
    },
    {
      "cell_type": "code",
      "metadata": {
        "id": "Y6IWacJ4oAnF",
        "colab_type": "code",
        "outputId": "cef99397-db53-4bee-a9fd-f00efd73ce93",
        "colab": {
          "base_uri": "https://localhost:8080/",
          "height": 309
        }
      },
      "source": [
        "model_a.fit(np.array(X_train_a), y_train_a, validation_data=(X_test_a,y_test_a), epochs = 7)"
      ],
      "execution_count": 0,
      "outputs": [
        {
          "output_type": "stream",
          "text": [
            "Train on 13367 samples, validate on 2648 samples\n",
            "Epoch 1/7\n",
            "13367/13367 [==============================] - 91s 7ms/step - loss: 0.6579 - accuracy: 0.5997 - val_loss: 0.5989 - val_accuracy: 0.6594\n",
            "Epoch 2/7\n",
            "13367/13367 [==============================] - 91s 7ms/step - loss: 0.5953 - accuracy: 0.6730 - val_loss: 0.5281 - val_accuracy: 0.7443\n",
            "Epoch 3/7\n",
            "13367/13367 [==============================] - 92s 7ms/step - loss: 0.5452 - accuracy: 0.7140 - val_loss: 0.5575 - val_accuracy: 0.6964\n",
            "Epoch 4/7\n",
            "13367/13367 [==============================] - 89s 7ms/step - loss: 0.5023 - accuracy: 0.7468 - val_loss: 0.5676 - val_accuracy: 0.7224\n",
            "Epoch 5/7\n",
            "13367/13367 [==============================] - 90s 7ms/step - loss: 0.4512 - accuracy: 0.7842 - val_loss: 0.5048 - val_accuracy: 0.7659\n",
            "Epoch 6/7\n",
            "13367/13367 [==============================] - 90s 7ms/step - loss: 0.4100 - accuracy: 0.8125 - val_loss: 0.5804 - val_accuracy: 0.7492\n",
            "Epoch 7/7\n",
            "13367/13367 [==============================] - 90s 7ms/step - loss: 0.3623 - accuracy: 0.8419 - val_loss: 0.5732 - val_accuracy: 0.7579\n"
          ],
          "name": "stdout"
        },
        {
          "output_type": "execute_result",
          "data": {
            "text/plain": [
              "<keras.callbacks.callbacks.History at 0x7f7d48778ba8>"
            ]
          },
          "metadata": {
            "tags": []
          },
          "execution_count": 98
        }
      ]
    },
    {
      "cell_type": "code",
      "metadata": {
        "id": "OdLvjX06FtRa",
        "colab_type": "code",
        "outputId": "f17eeaa6-4cf8-4ca2-837c-9b2e2976b2a0",
        "colab": {
          "base_uri": "https://localhost:8080/",
          "height": 170
        }
      },
      "source": [
        "y_pred_a = model_a.predict(X_test_a)\n",
        "y_pred_a = y_pred_a>0.5\n",
        "print(classification_report(y_test_a, y_pred_a, target_names= [\"OFF\",'NOT']))"
      ],
      "execution_count": 0,
      "outputs": [
        {
          "output_type": "stream",
          "text": [
            "              precision    recall  f1-score   support\n",
            "\n",
            "         OFF       0.60      0.68      0.64       838\n",
            "         NOT       0.84      0.79      0.82      1810\n",
            "\n",
            "    accuracy                           0.76      2648\n",
            "   macro avg       0.72      0.74      0.73      2648\n",
            "weighted avg       0.77      0.76      0.76      2648\n",
            "\n"
          ],
          "name": "stdout"
        }
      ]
    },
    {
      "cell_type": "code",
      "metadata": {
        "id": "Pvfs8sTjhYrN",
        "colab_type": "code",
        "outputId": "2c0677f9-d419-4586-8851-c4d497c2bbb9",
        "colab": {
          "base_uri": "https://localhost:8080/",
          "height": 51
        }
      },
      "source": [
        "from sklearn.metrics import confusion_matrix\n",
        "cm = confusion_matrix((y_test_a),(y_pred_a))\n",
        "cm"
      ],
      "execution_count": 0,
      "outputs": [
        {
          "output_type": "execute_result",
          "data": {
            "text/plain": [
              "array([[ 573,  265],\n",
              "       [ 376, 1434]])"
            ]
          },
          "metadata": {
            "tags": []
          },
          "execution_count": 108
        }
      ]
    },
    {
      "cell_type": "markdown",
      "metadata": {
        "id": "Fn1pmtRA47dz",
        "colab_type": "text"
      },
      "source": [
        "Submission to codalab"
      ]
    },
    {
      "cell_type": "code",
      "metadata": {
        "id": "gLyu9K_f3ZFc",
        "colab_type": "code",
        "colab": {}
      },
      "source": [
        "test_data_a[\"clean data\"] = test_data_a.tweet.apply(lambda x: clean_data(x)[0])\n",
        "sequences = tokenizer.texts_to_sequences(test_data_a[\"clean data\"])\n",
        "seq_test_a = pad_sequences(sequences, maxlen = max_seq)"
      ],
      "execution_count": 0,
      "outputs": []
    },
    {
      "cell_type": "code",
      "metadata": {
        "id": "eG1RLnf74AC8",
        "colab_type": "code",
        "colab": {}
      },
      "source": [
        "predictions = model_a.predict(seq_test_a)\n",
        "predictions = predictions > 0.5\n",
        "predictions = [number_to_label_a[int(v[0])] for v in predictions]\n",
        "test_data_a[\"predictions\"] = predictions\n",
        "submit= test_data_a[[\"id\", \"predictions\"]]\n",
        "submit.to_csv(\"submission_a.csv\", index = False, header = False)"
      ],
      "execution_count": 0,
      "outputs": []
    },
    {
      "cell_type": "markdown",
      "metadata": {
        "id": "54l4j-r85CFA",
        "colab_type": "text"
      },
      "source": [
        "Transfer Learning for task B"
      ]
    },
    {
      "cell_type": "code",
      "metadata": {
        "id": "iXcuuxLAojiZ",
        "colab_type": "code",
        "outputId": "b5584b7f-b2a1-4c26-87b3-87b5b683b161",
        "colab": {
          "base_uri": "https://localhost:8080/",
          "height": 173
        }
      },
      "source": [
        "model_b.compile(loss = \"binary_crossentropy\", optimizer = \"adam\", metrics = [\"accuracy\"])\n",
        "model_b.fit(np.array(X_train_b), y_train_b, validation_data=(X_test_b,y_test_b), epochs = 3)"
      ],
      "execution_count": 0,
      "outputs": [
        {
          "output_type": "stream",
          "text": [
            "Train on 5645 samples, validate on 880 samples\n",
            "Epoch 1/3\n",
            "5645/5645 [==============================] - 45s 8ms/step - loss: 0.6812 - accuracy: 0.6106 - val_loss: 0.6791 - val_accuracy: 0.6125\n",
            "Epoch 2/3\n",
            "5645/5645 [==============================] - 43s 8ms/step - loss: 0.5829 - accuracy: 0.6974 - val_loss: 0.4969 - val_accuracy: 0.7705\n",
            "Epoch 3/3\n",
            "5645/5645 [==============================] - 43s 8ms/step - loss: 0.5075 - accuracy: 0.7543 - val_loss: 0.6579 - val_accuracy: 0.6591\n"
          ],
          "name": "stdout"
        },
        {
          "output_type": "execute_result",
          "data": {
            "text/plain": [
              "<keras.callbacks.callbacks.History at 0x7f7d50f67860>"
            ]
          },
          "metadata": {
            "tags": []
          },
          "execution_count": 110
        }
      ]
    },
    {
      "cell_type": "code",
      "metadata": {
        "id": "vh0ShMX6zM-D",
        "colab_type": "code",
        "outputId": "980655ca-b792-4073-a936-f870a8ac7e5e",
        "colab": {
          "base_uri": "https://localhost:8080/",
          "height": 170
        }
      },
      "source": [
        "y_pred_b = model_b.predict(X_test_b)\n",
        "y_pred_b = y_pred_b > 0.5\n",
        "print(classification_report(y_test_b, y_pred_b, target_names= [\"UNT\",'TIN']))"
      ],
      "execution_count": 0,
      "outputs": [
        {
          "output_type": "stream",
          "text": [
            "              precision    recall  f1-score   support\n",
            "\n",
            "         UNT       0.17      0.57      0.26        92\n",
            "         TIN       0.93      0.67      0.78       788\n",
            "\n",
            "    accuracy                           0.66       880\n",
            "   macro avg       0.55      0.62      0.52       880\n",
            "weighted avg       0.85      0.66      0.72       880\n",
            "\n"
          ],
          "name": "stdout"
        }
      ]
    },
    {
      "cell_type": "code",
      "metadata": {
        "id": "4z_PdIrE6V7l",
        "colab_type": "code",
        "outputId": "80443714-7323-4ec5-b532-b1b8ae939a8e",
        "colab": {
          "base_uri": "https://localhost:8080/",
          "height": 170
        }
      },
      "source": [
        "y_pred_b = model_b.predict(X_test_b)\n",
        "y_pred_b = y_pred_b > 0.5\n",
        "print(classification_report(y_test_b, y_pred_b, target_names= [\"UNT\",'TIN']))"
      ],
      "execution_count": 0,
      "outputs": [
        {
          "output_type": "stream",
          "text": [
            "              precision    recall  f1-score   support\n",
            "\n",
            "         UNT       0.17      0.57      0.26        92\n",
            "         TIN       0.93      0.67      0.78       788\n",
            "\n",
            "    accuracy                           0.66       880\n",
            "   macro avg       0.55      0.62      0.52       880\n",
            "weighted avg       0.85      0.66      0.72       880\n",
            "\n"
          ],
          "name": "stdout"
        }
      ]
    },
    {
      "cell_type": "code",
      "metadata": {
        "id": "6piXeVBuiteB",
        "colab_type": "code",
        "outputId": "66f337fb-546c-4b55-da36-af266c9a3f4a",
        "colab": {
          "base_uri": "https://localhost:8080/",
          "height": 51
        }
      },
      "source": [
        "cm = confusion_matrix((y_test_b), (y_pred_b))\n",
        "cm"
      ],
      "execution_count": 0,
      "outputs": [
        {
          "output_type": "execute_result",
          "data": {
            "text/plain": [
              "array([[ 28,  64],\n",
              "       [189, 599]])"
            ]
          },
          "metadata": {
            "tags": []
          },
          "execution_count": 109
        }
      ]
    },
    {
      "cell_type": "markdown",
      "metadata": {
        "id": "tKctmIuV5WeR",
        "colab_type": "text"
      },
      "source": [
        "Submission to codalab"
      ]
    },
    {
      "cell_type": "code",
      "metadata": {
        "id": "RdFCis_1aMSS",
        "colab_type": "code",
        "colab": {}
      },
      "source": [
        "test_data_b[\"clean data\"] = test_data_b.tweet.apply(lambda x: clean_data(x)[0])\n",
        "sequences = tokenizer.texts_to_sequences(test_data_b[\"clean data\"])\n",
        "seq_test_b = pad_sequences(sequences, maxlen = max_seq)"
      ],
      "execution_count": 0,
      "outputs": []
    },
    {
      "cell_type": "code",
      "metadata": {
        "id": "o82LjcBb68-e",
        "colab_type": "code",
        "colab": {}
      },
      "source": [
        "predictions = model_b.predict(seq_test_b)\n",
        "predictions = predictions > 0.5\n",
        "predictions = [number_to_label_b[int(v[0])] for v in predictions]\n",
        "test_data_b[\"predictions\"] = predictions\n",
        "submit= test_data_b[[\"id\", \"predictions\"]]\n",
        "submit.to_csv(\"submission_b.csv\", index = False, header = False)"
      ],
      "execution_count": 0,
      "outputs": []
    },
    {
      "cell_type": "code",
      "metadata": {
        "id": "fv9I_inAJAvX",
        "colab_type": "code",
        "colab": {}
      },
      "source": [
        "predictions = model_b.predict(seq_test_b)\n",
        "predictions = np.argmax(predictions,axis=1)\n",
        "predictions = [number_to_label_b[v] for v in predictions]\n",
        "test_data_b[\"predictions\"] = predictions\n",
        "submit= test_data_b[[\"id\", \"predictions\"]]\n",
        "submit.to_csv(\"submission_b.csv\", index = False, header = False)"
      ],
      "execution_count": 0,
      "outputs": []
    },
    {
      "cell_type": "code",
      "metadata": {
        "id": "DClpcahLE2Y4",
        "colab_type": "code",
        "colab": {}
      },
      "source": [
        "from sklearn.metrics import confusion_matrix\n",
        "labels_b = pd.read_csv(\"labels-levelb.csv\", sep=\",\", header=None)\n",
        "labels_b.columns=[\"id\", \"subtask_b\"]\n",
        "\n",
        "print(classification_report(labels_b[\"subtask_b\"], predictions))\n",
        "print(confusion_matrix(labels_b[\"subtask_b\"], predictions))"
      ],
      "execution_count": 0,
      "outputs": []
    },
    {
      "cell_type": "markdown",
      "metadata": {
        "id": "e5neBwSP5RXL",
        "colab_type": "text"
      },
      "source": [
        "Transfer Learning for task C"
      ]
    },
    {
      "cell_type": "code",
      "metadata": {
        "id": "hV0bhX-Z-JyK",
        "colab_type": "code",
        "colab": {}
      },
      "source": [
        ""
      ],
      "execution_count": 0,
      "outputs": []
    },
    {
      "cell_type": "code",
      "metadata": {
        "id": "w-8-AeknoyvR",
        "colab_type": "code",
        "outputId": "c8218c84-988d-444c-b13a-02aa29f13375",
        "colab": {
          "base_uri": "https://localhost:8080/",
          "height": 139
        }
      },
      "source": [
        "model_c.compile(loss = \"categorical_crossentropy\", optimizer = \"adam\", metrics = [\"accuracy\"])\n",
        "dummy_labels_train = keras.utils.np_utils.to_categorical(y_train_c)\n",
        "dummy_labels_test = keras.utils.np_utils.to_categorical(y_test_c)\n",
        "model_c.fit(np.array(X_train_c), dummy_labels_train, validation_data=(X_test_c,dummy_labels_test), epochs = 2)"
      ],
      "execution_count": 0,
      "outputs": [
        {
          "output_type": "stream",
          "text": [
            "Train on 5284 samples, validate on 776 samples\n",
            "Epoch 1/2\n",
            "5284/5284 [==============================] - 42s 8ms/step - loss: 1.0518 - accuracy: 0.4521 - val_loss: 0.9907 - val_accuracy: 0.5954\n",
            "Epoch 2/2\n",
            "5284/5284 [==============================] - 41s 8ms/step - loss: 0.9409 - accuracy: 0.5331 - val_loss: 0.9360 - val_accuracy: 0.6147\n"
          ],
          "name": "stdout"
        },
        {
          "output_type": "execute_result",
          "data": {
            "text/plain": [
              "<keras.callbacks.callbacks.History at 0x7f7d466e0b00>"
            ]
          },
          "metadata": {
            "tags": []
          },
          "execution_count": 113
        }
      ]
    },
    {
      "cell_type": "code",
      "metadata": {
        "id": "EmIFEqoGpSSI",
        "colab_type": "code",
        "outputId": "4f08bee1-f2cf-44e2-90da-d91e313e3721",
        "colab": {
          "base_uri": "https://localhost:8080/",
          "height": 187
        }
      },
      "source": [
        "y_pred_c = model_c.predict(X_test_c)\n",
        "y_pred_c = np.argmax(y_pred_c,axis=1)\n",
        "print(classification_report(y_test_c, y_pred_c, target_names= [\"IND\",'OTH', \"GRP\"]))"
      ],
      "execution_count": 0,
      "outputs": [
        {
          "output_type": "stream",
          "text": [
            "              precision    recall  f1-score   support\n",
            "\n",
            "         IND       0.85      0.62      0.72       487\n",
            "         OTH       0.17      0.25      0.20        65\n",
            "         GRP       0.48      0.70      0.57       224\n",
            "\n",
            "    accuracy                           0.61       776\n",
            "   macro avg       0.50      0.52      0.50       776\n",
            "weighted avg       0.69      0.61      0.63       776\n",
            "\n"
          ],
          "name": "stdout"
        }
      ]
    },
    {
      "cell_type": "code",
      "metadata": {
        "id": "OE7oEhVCi0HQ",
        "colab_type": "code",
        "outputId": "acea39bf-5b80-41c4-8f16-758af2a7d6f2",
        "colab": {
          "base_uri": "https://localhost:8080/",
          "height": 68
        }
      },
      "source": [
        "cm = confusion_matrix((y_test_c), (y_pred_c))\n",
        "cm"
      ],
      "execution_count": 0,
      "outputs": [
        {
          "output_type": "execute_result",
          "data": {
            "text/plain": [
              "array([[304,  46, 137],\n",
              "       [ 16,  16,  33],\n",
              "       [ 37,  30, 157]])"
            ]
          },
          "metadata": {
            "tags": []
          },
          "execution_count": 116
        }
      ]
    },
    {
      "cell_type": "markdown",
      "metadata": {
        "id": "dBvkhBwOUYOd",
        "colab_type": "text"
      },
      "source": [
        "Predict on test data"
      ]
    },
    {
      "cell_type": "code",
      "metadata": {
        "id": "cjkQCdZu77Xg",
        "colab_type": "code",
        "colab": {}
      },
      "source": [
        "test_data_c[\"clean data\"] = test_data_c.tweet.apply(lambda x: clean_data(x)[0])\n",
        "sequences = tokenizer.texts_to_sequences(test_data_c[\"clean data\"])\n",
        "seq_test_c = pad_sequences(sequences, maxlen = max_seq)"
      ],
      "execution_count": 0,
      "outputs": []
    },
    {
      "cell_type": "code",
      "metadata": {
        "id": "Tv2C5l0T8z44",
        "colab_type": "code",
        "colab": {}
      },
      "source": [
        "predictions = model_c.predict(seq_test_c)\n",
        "predictions = np.argmax(predictions,axis=1)\n",
        "predictions = [number_to_label_c[v] for v in predictions]\n",
        "test_data_c[\"predictions\"] = predictions\n",
        "submit= test_data_c[[\"id\", \"predictions\"]]\n",
        "submit.to_csv(\"submission_c.csv\", index = False, header = False)"
      ],
      "execution_count": 0,
      "outputs": []
    },
    {
      "cell_type": "code",
      "metadata": {
        "id": "Igg6BPkYGFbs",
        "colab_type": "code",
        "colab": {}
      },
      "source": [
        "from sklearn.metrics import confusion_matrix\n",
        "labels_c = pd.read_csv(\"labels-levelc.csv\", sep=\",\", header=None)\n",
        "labels_c.columns=[\"id\", \"subtask_c\"]\n",
        "\n",
        "print(classification_report(labels_c[\"subtask_c\"], predictions))\n",
        "print(confusion_matrix(labels_c[\"subtask_c\"], predictions))"
      ],
      "execution_count": 0,
      "outputs": []
    },
    {
      "cell_type": "markdown",
      "metadata": {
        "id": "EMcyazWKQQHb",
        "colab_type": "text"
      },
      "source": [
        "Hyper-parameter tuning: Bayesian optimisation"
      ]
    },
    {
      "cell_type": "code",
      "metadata": {
        "id": "h_-UQUGRj0tb",
        "colab_type": "code",
        "colab": {}
      },
      "source": [
        "def train_Bayesian_Opt(params):\n",
        "  \n",
        "    ## Architecture\n",
        "    inp = Input(shape = (max_seq,))\n",
        "\n",
        "    x = Embedding(vocabulary_size+1, EMBEDDING_SIZE, weights = [embedding_matrix], trainable = True)(inp)\n",
        "    x = SpatialDropout1D(0.5)(x)\n",
        "    x = Bidirectional(LSTM(128, return_sequences = True))(x)\n",
        "    x = Conv1D(64, kernel_size = 2, padding = \"valid\", kernel_initializer = \"he_uniform\")(x)\n",
        "    avg_pool = GlobalAveragePooling1D()(x)\n",
        "    max_pool = GlobalMaxPooling1D()(x)\n",
        "    x = concatenate([avg_pool, max_pool])\n",
        "    x = Dense(10, activation = \"relu\")(x)\n",
        "\n",
        "    a = Dense(1, activation = \"sigmoid\")(x)\n",
        "    model_a = Model(inputs = inp, outputs = a)\n",
        "    \n",
        "    model_a.compile( loss = \"binary_crossentropy\", optimizer = Adam(lr = params[0,0], decay = params[0,1]), metrics = [\"accuracy\"])\n",
        "    model_a.fit(np.array(X_train_a), y_train_a, validation_data=(X_test_a,y_test_a), epochs = 5)\n",
        "    y_pred_a = model_a.predict(X_test_a)\n",
        "    y_pred_a = y_pred_a>0.5\n",
        "    \n",
        "    \n",
        "    \n",
        "    \n",
        "    ##Check the accuracy after every iteration of Bayesian Optimisation\n",
        "    return f1_score(y_test_a, y_pred_a, average = \"macro\")\n",
        "  \n",
        "\n",
        "### For GPyOpt implementation details see: https://github.com/SheffieldML/GPyOpt/\n",
        "domain = [{'name': 'lr',  'type': 'continuous',  'domain': (0.0005,0.01)}, {'name': 'w_decay',  'type': 'continuous',  'domain': (0, 0.000001)}]\n",
        "opt = GPyOpt.methods.BayesianOptimization(f = train_Bayesian_Opt, domain = domain, acquisition_type ='LCB', acquisition_weight = 0.5)\n",
        "opt.run_optimization(max_iter=10)\n",
        "opt.plot_convergence()\n",
        "\n"
      ],
      "execution_count": 0,
      "outputs": []
    }
  ]
}