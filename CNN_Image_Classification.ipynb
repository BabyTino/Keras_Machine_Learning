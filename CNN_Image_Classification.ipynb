{
  "nbformat": 4,
  "nbformat_minor": 0,
  "metadata": {
    "kernelspec": {
      "name": "python3",
      "display_name": "Python 3"
    },
    "language_info": {
      "codemirror_mode": {
        "name": "ipython",
        "version": 3
      },
      "file_extension": ".py",
      "mimetype": "text/x-python",
      "name": "python",
      "nbconvert_exporter": "python",
      "pygments_lexer": "ipython3",
      "version": "3.6.1"
    },
    "colab": {
      "name": "COMP5623_CW1.ipynb",
      "provenance": [],
      "collapsed_sections": [],
      "machine_shape": "hm"
    },
    "accelerator": "GPU"
  },
  "cells": [
    {
      "cell_type": "markdown",
      "metadata": {
        "id": "IdnsT8VYCSYF",
        "colab_type": "text"
      },
      "source": [
        "## COMP5623 Coursework on Image Classification with Convolutional Neural Networks \n",
        "\n",
        "Starter code."
      ]
    },
    {
      "cell_type": "code",
      "metadata": {
        "id": "eKS20wjsCSYI",
        "colab_type": "code",
        "colab": {}
      },
      "source": [
        "import torch\n",
        "import torchvision\n",
        "import torch.optim as optim\n",
        "import torch.nn as nn\n",
        "import torchvision.transforms as transforms\n",
        "from  torch.utils.data import Dataset\n",
        "from torch.utils.data import Dataset, DataLoader\n",
        "from torchvision.utils import make_grid\n",
        "\n",
        "from sklearn.metrics import confusion_matrix\n",
        "from skimage import io, transform\n",
        "\n",
        "import matplotlib.pyplot as plt\n",
        "from tqdm import tqdm\n",
        "from PIL import Image\n",
        "import pandas as pd\n",
        "import numpy as np\n",
        "import csv\n",
        "import os\n",
        "import math\n",
        "import cv2\n",
        "from torch import optim\n",
        "import timeit\n",
        "import itertools\n",
        "from torchvision import utils\n",
        "import matplotlib as mpl\n",
        "\n"
      ],
      "execution_count": 0,
      "outputs": []
    },
    {
      "cell_type": "markdown",
      "metadata": {
        "id": "IpRGGlofCSYM",
        "colab_type": "text"
      },
      "source": [
        "### Part I\n",
        "\n",
        "The first part of the assignment is to build a CNN and train it on a subset of the ImageNet dataset. We will first create a dataframe with all the references to the images and their labels.\n",
        "\n",
        "To download the images into your work environment, clone into a git respository containing the images."
      ]
    },
    {
      "cell_type": "code",
      "metadata": {
        "id": "EqhQboSCCSYN",
        "colab_type": "code",
        "outputId": "f1c3aaab-ff0f-48d1-c12d-516629d5b5fd",
        "colab": {
          "base_uri": "https://localhost:8080/",
          "height": 119
        }
      },
      "source": [
        "! git clone https://github.com/MohammedAlghamdi/imagenet10.git"
      ],
      "execution_count": 0,
      "outputs": [
        {
          "output_type": "stream",
          "text": [
            "Cloning into 'imagenet10'...\n",
            "remote: Enumerating objects: 10019, done.\u001b[K\n",
            "remote: Total 10019 (delta 0), reused 0 (delta 0), pack-reused 10019\u001b[K\n",
            "Receiving objects: 100% (10019/10019), 966.71 MiB | 18.65 MiB/s, done.\n",
            "Resolving deltas: 100% (2/2), done.\n",
            "Checking out files: 100% (10002/10002), done.\n"
          ],
          "name": "stdout"
        }
      ]
    },
    {
      "cell_type": "markdown",
      "metadata": {
        "id": "8edZnYShg7M1",
        "colab_type": "text"
      },
      "source": [
        "Check that the repository is there:"
      ]
    },
    {
      "cell_type": "code",
      "metadata": {
        "id": "i2RIZGHaCVAC",
        "colab_type": "code",
        "outputId": "94f896ef-95e3-4625-e5ee-0dad4258da93",
        "colab": {
          "base_uri": "https://localhost:8080/",
          "height": 34
        }
      },
      "source": [
        "! ls"
      ],
      "execution_count": 0,
      "outputs": [
        {
          "output_type": "stream",
          "text": [
            "imagenet10  sample_data\n"
          ],
          "name": "stdout"
        }
      ]
    },
    {
      "cell_type": "code",
      "metadata": {
        "id": "47tv-wIQCTcS",
        "colab_type": "code",
        "colab": {}
      },
      "source": [
        "root_dir = \"imagenet10/train_set/\"\n",
        "class_names = [\n",
        "  \"baboon\",\n",
        "  \"banana\",\n",
        "  \"canoe\",\n",
        "  \"cat\",\n",
        "  \"desk\",\n",
        "  \"drill\",\n",
        "  \"dumbbell\",\n",
        "  \"football\",\n",
        "  \"mug\",\n",
        "  \"orange\",\n",
        "]"
      ],
      "execution_count": 0,
      "outputs": []
    },
    {
      "cell_type": "markdown",
      "metadata": {
        "id": "L6oMdWl5CSYR",
        "colab_type": "text"
      },
      "source": [
        "A helper function for reading in images and assigning labels."
      ]
    },
    {
      "cell_type": "code",
      "metadata": {
        "id": "tQfcD3jyCSYT",
        "colab_type": "code",
        "colab": {}
      },
      "source": [
        "def get_meta(root_dir, dirs):\n",
        "    \"\"\" Fetches the meta data for all the images and assigns labels.\n",
        "    \"\"\"\n",
        "    paths, classes = [], []\n",
        "    for i, dir_ in enumerate(dirs):\n",
        "        for entry in os.scandir(root_dir + dir_):\n",
        "            if (entry.is_file()):\n",
        "                paths.append(entry.path)\n",
        "                classes.append(i)\n",
        "                \n",
        "    return paths, classes"
      ],
      "execution_count": 0,
      "outputs": []
    },
    {
      "cell_type": "markdown",
      "metadata": {
        "id": "0J967KW0CSYX",
        "colab_type": "text"
      },
      "source": [
        "Now we create a dataframe using all the data."
      ]
    },
    {
      "cell_type": "code",
      "metadata": {
        "id": "8gDPs1NCCSYY",
        "colab_type": "code",
        "colab": {}
      },
      "source": [
        "# Benign images we will assign class 0, and malignant as 1\n",
        "paths, classes = get_meta(root_dir, class_names)\n",
        "\n",
        "data = {\n",
        "    'path': paths,\n",
        "    'class': classes\n",
        "}\n",
        "\n",
        "data_df = pd.DataFrame(data, columns=['path', 'class'])\n",
        "data_df = data_df.sample(frac=1).reset_index(drop=True) # Shuffles the data"
      ],
      "execution_count": 0,
      "outputs": []
    },
    {
      "cell_type": "markdown",
      "metadata": {
        "id": "jRUDj3WihItY",
        "colab_type": "text"
      },
      "source": [
        "View some sample data."
      ]
    },
    {
      "cell_type": "code",
      "metadata": {
        "id": "mK2GPzfVCSYc",
        "colab_type": "code",
        "outputId": "692bf410-b194-400a-e585-2768fd53e562",
        "colab": {
          "base_uri": "https://localhost:8080/",
          "height": 221
        }
      },
      "source": [
        "print(\"Found\", len(data_df), \"images.\")\n",
        "data_df.head()"
      ],
      "execution_count": 0,
      "outputs": [
        {
          "output_type": "stream",
          "text": [
            "Found 9000 images.\n"
          ],
          "name": "stdout"
        },
        {
          "output_type": "execute_result",
          "data": {
            "text/html": [
              "<div>\n",
              "<style scoped>\n",
              "    .dataframe tbody tr th:only-of-type {\n",
              "        vertical-align: middle;\n",
              "    }\n",
              "\n",
              "    .dataframe tbody tr th {\n",
              "        vertical-align: top;\n",
              "    }\n",
              "\n",
              "    .dataframe thead th {\n",
              "        text-align: right;\n",
              "    }\n",
              "</style>\n",
              "<table border=\"1\" class=\"dataframe\">\n",
              "  <thead>\n",
              "    <tr style=\"text-align: right;\">\n",
              "      <th></th>\n",
              "      <th>path</th>\n",
              "      <th>class</th>\n",
              "    </tr>\n",
              "  </thead>\n",
              "  <tbody>\n",
              "    <tr>\n",
              "      <th>0</th>\n",
              "      <td>imagenet10/train_set/desk/n03179701_8556.JPEG</td>\n",
              "      <td>4</td>\n",
              "    </tr>\n",
              "    <tr>\n",
              "      <th>1</th>\n",
              "      <td>imagenet10/train_set/cat/n02123159_961.JPEG</td>\n",
              "      <td>3</td>\n",
              "    </tr>\n",
              "    <tr>\n",
              "      <th>2</th>\n",
              "      <td>imagenet10/train_set/desk/n03179701_26930.JPEG</td>\n",
              "      <td>4</td>\n",
              "    </tr>\n",
              "    <tr>\n",
              "      <th>3</th>\n",
              "      <td>imagenet10/train_set/drill/n03239726_10882.JPEG</td>\n",
              "      <td>5</td>\n",
              "    </tr>\n",
              "    <tr>\n",
              "      <th>4</th>\n",
              "      <td>imagenet10/train_set/orange/n07747607_19460.JPEG</td>\n",
              "      <td>9</td>\n",
              "    </tr>\n",
              "  </tbody>\n",
              "</table>\n",
              "</div>"
            ],
            "text/plain": [
              "                                               path  class\n",
              "0     imagenet10/train_set/desk/n03179701_8556.JPEG      4\n",
              "1       imagenet10/train_set/cat/n02123159_961.JPEG      3\n",
              "2    imagenet10/train_set/desk/n03179701_26930.JPEG      4\n",
              "3   imagenet10/train_set/drill/n03239726_10882.JPEG      5\n",
              "4  imagenet10/train_set/orange/n07747607_19460.JPEG      9"
            ]
          },
          "metadata": {
            "tags": []
          },
          "execution_count": 7
        }
      ]
    },
    {
      "cell_type": "markdown",
      "metadata": {
        "id": "Ai3uvziWCSYh",
        "colab_type": "text"
      },
      "source": [
        "Now we will create the Dataset class."
      ]
    },
    {
      "cell_type": "code",
      "metadata": {
        "id": "EyUb-rzQCSYi",
        "colab_type": "code",
        "colab": {}
      },
      "source": [
        "class ImageNet10(Dataset):\n",
        "    \"\"\" ImageNet10 dataset. \"\"\"\n",
        "\n",
        "    def __init__(self, df, transform=None):\n",
        "        \"\"\"\n",
        "        Args:\n",
        "            image_dir (string): Directory with all the images\n",
        "            df (DataFrame object): Dataframe containing the images, paths and classes\n",
        "            transform (callable, optional): Optional transform to be applied\n",
        "                on a sample.\n",
        "        \"\"\"\n",
        "        self.df = df\n",
        "        self.transform = transform\n",
        "\n",
        "    def __len__(self):\n",
        "        return len(self.df)\n",
        "\n",
        "    def __getitem__(self, index):\n",
        "        # Load image from path and get label\n",
        "        x = Image.open(self.df['path'][index])\n",
        "        try:\n",
        "          x = x.convert('RGB') # To deal with some grayscale images in the data\n",
        "        except:\n",
        "          pass\n",
        "        y = torch.tensor(int(self.df['class'][index]))\n",
        "\n",
        "        if self.transform:\n",
        "            x = self.transform(x)\n",
        "\n",
        "        return x, y"
      ],
      "execution_count": 0,
      "outputs": []
    },
    {
      "cell_type": "markdown",
      "metadata": {
        "id": "vqtRjBozCSYk",
        "colab_type": "text"
      },
      "source": [
        "Compute what we should normalise the dataset to."
      ]
    },
    {
      "cell_type": "code",
      "metadata": {
        "id": "pPqfMPuZCSYl",
        "colab_type": "code",
        "colab": {}
      },
      "source": [
        "def compute_img_mean_std(image_paths):\n",
        "    \"\"\"\n",
        "        Author: @xinruizhuang. Computing the mean and std of three channel on the whole dataset,\n",
        "        first we should normalize the image from 0-255 to 0-1\n",
        "    \"\"\"\n",
        "\n",
        "    img_h, img_w = 224, 224\n",
        "    imgs = []\n",
        "    means, stdevs = [], []\n",
        "\n",
        "    for i in tqdm(range(len(image_paths))):\n",
        "        img = cv2.imread(image_paths[i])\n",
        "        img = cv2.resize(img, (img_h, img_w))\n",
        "        imgs.append(img)\n",
        "\n",
        "    imgs = np.stack(imgs, axis=3)\n",
        "    print(imgs.shape)\n",
        "\n",
        "    imgs = imgs.astype(np.float32) / 255.\n",
        "\n",
        "    for i in range(3):\n",
        "        pixels = imgs[:, :, i, :].ravel()  # resize to one row\n",
        "        means.append(np.mean(pixels))\n",
        "        stdevs.append(np.std(pixels))\n",
        "\n",
        "    means.reverse()  # BGR --> RGB\n",
        "    stdevs.reverse()\n",
        "\n",
        "    print(\"normMean = {}\".format(means))\n",
        "    print(\"normStd = {}\".format(stdevs))\n",
        "    return means, stdevs\n",
        "\n"
      ],
      "execution_count": 0,
      "outputs": []
    },
    {
      "cell_type": "code",
      "metadata": {
        "id": "-_1KSGUe4sEW",
        "colab_type": "code",
        "outputId": "600f3396-b043-4158-fcde-430fc417a385",
        "colab": {
          "base_uri": "https://localhost:8080/",
          "height": 85
        }
      },
      "source": [
        "norm_mean, norm_std = compute_img_mean_std(paths)"
      ],
      "execution_count": 0,
      "outputs": [
        {
          "output_type": "stream",
          "text": [
            "100%|██████████| 9000/9000 [00:44<00:00, 202.95it/s]\n"
          ],
          "name": "stderr"
        },
        {
          "output_type": "stream",
          "text": [
            "(224, 224, 3, 9000)\n",
            "normMean = [0.5228359, 0.4798834, 0.40605333]\n",
            "normStd = [0.29770732, 0.28883994, 0.31178218]\n"
          ],
          "name": "stdout"
        }
      ]
    },
    {
      "cell_type": "markdown",
      "metadata": {
        "id": "RqrG3FCUCSYo",
        "colab_type": "text"
      },
      "source": [
        "Now let's create the transforms to normalise and turn our data into tensors."
      ]
    },
    {
      "cell_type": "code",
      "metadata": {
        "id": "OVeZpgM-CSYq",
        "colab_type": "code",
        "colab": {}
      },
      "source": [
        "data_transform = transforms.Compose([\n",
        "        transforms.Resize(256),\n",
        "        transforms.CenterCrop(256),\n",
        "        transforms.ToTensor(),\n",
        "        transforms.Normalize(norm_mean, norm_std),\n",
        "    ])"
      ],
      "execution_count": 0,
      "outputs": []
    },
    {
      "cell_type": "markdown",
      "metadata": {
        "id": "cAPzCfr2CSYt",
        "colab_type": "text"
      },
      "source": [
        "Let's split the data into train and test sets and instantiate our new ISIC_Dataset objects."
      ]
    },
    {
      "cell_type": "code",
      "metadata": {
        "id": "POCexxXjCSYu",
        "colab_type": "code",
        "colab": {}
      },
      "source": [
        "train_split = 0.70 # Defines the ratio of train/valid/test data.\n",
        "valid_split = 0.10\n",
        "\n",
        "train_size = int(len(data_df)*train_split)\n",
        "valid_size = int(len(data_df)*valid_split)\n",
        "\n",
        "ins_dataset_train = ImageNet10(\n",
        "    df=data_df[:train_size],\n",
        "    transform=data_transform,\n",
        ")\n",
        "\n",
        "ins_dataset_valid = ImageNet10(\n",
        "    df=data_df[train_size:(train_size + valid_size)].reset_index(drop=True),\n",
        "    transform=data_transform,\n",
        ")\n",
        "\n",
        "ins_dataset_test = ImageNet10(\n",
        "    df=data_df[(train_size + valid_size):].reset_index(drop=True),\n",
        "    transform=data_transform,\n",
        ")"
      ],
      "execution_count": 0,
      "outputs": []
    },
    {
      "cell_type": "markdown",
      "metadata": {
        "id": "PzVfNzvmhTGJ",
        "colab_type": "text"
      },
      "source": [
        "You will need to create DataLoaders for the datasets."
      ]
    },
    {
      "cell_type": "code",
      "metadata": {
        "id": "_womtSmIhgSj",
        "colab_type": "code",
        "colab": {}
      },
      "source": [
        "train_loader = torch.utils.data.DataLoader(\n",
        "    ins_dataset_train,\n",
        "    batch_size=5,\n",
        "    shuffle=True,\n",
        "    num_workers=2\n",
        ")\n",
        "\n",
        "valid_loader = torch.utils.data.DataLoader(\n",
        "    ins_dataset_valid,\n",
        "    batch_size=5,\n",
        "    shuffle=False,\n",
        "    num_workers=2\n",
        ")\n",
        "\n",
        "test_loader = torch.utils.data.DataLoader(\n",
        "    ins_dataset_test,\n",
        "    batch_size=12, \n",
        "    shuffle=False,\n",
        "    num_workers=2\n",
        ")\n",
        "\n",
        "classes = range(0,10)\n"
      ],
      "execution_count": 0,
      "outputs": []
    },
    {
      "cell_type": "markdown",
      "metadata": {
        "id": "X00vuzPWhY5h",
        "colab_type": "text"
      },
      "source": [
        "### A framework for the ConvNet model, missing all layers except the final fully-connected layer:"
      ]
    },
    {
      "cell_type": "code",
      "metadata": {
        "id": "3B5x07o3CSY7",
        "colab_type": "code",
        "colab": {}
      },
      "source": [
        "# Convolutional neural network\n",
        "class ConvNet(nn.Module):\n",
        "    \n",
        "    def __init__(self, num_classes=10):\n",
        "        super(ConvNet, self).__init__()\n",
        "\n",
        "            # Layer 1\n",
        "        self.conv1 = nn.Conv2d(3, 16, 3)\n",
        "        self.pool = nn.MaxPool2d(2)\n",
        "\n",
        "            # Layer 2\n",
        "        self.conv2 = nn.Sequential(\n",
        "            nn.Conv2d(16, 24, 4),\n",
        "            nn.MaxPool2d(4), # set back to 2\n",
        "            nn.ReLU(),\n",
        "            nn.Dropout(0.25)\n",
        "        )\n",
        "\n",
        "            # Layer 3\n",
        "        self.conv3 = nn.Sequential(\n",
        "            nn.Conv2d(24, 32, 4),\n",
        "            nn.MaxPool2d(2),\n",
        "            nn.ReLU(),\n",
        "            nn.Dropout(0.25)\n",
        "\n",
        "        )\n",
        "\n",
        "           # Layer 4\n",
        "        self.conv4 = nn.Sequential(\n",
        "            nn.Conv2d(32, 40, 4),\n",
        "            nn.MaxPool2d(2),\n",
        "            nn.ReLU(),\n",
        "            nn.Dropout(0.25)\n",
        "\n",
        "        )\n",
        "\n",
        "        #    # Layer 5\n",
        "        # self.conv5 = nn.Sequential(\n",
        "        #     nn.Conv2d(40, 48, 3),\n",
        "        #     nn.MaxPool2d(2),\n",
        "        #     nn.ReLU(),\n",
        "        #     # nn.Dropout(0.1)\n",
        "\n",
        "        # )\n",
        "\n",
        "        \n",
        "\n",
        "            # Fully Connected Layer 1\n",
        "        self.fc1 = nn.Sequential(\n",
        "            nn.Linear(6760, 512)\n",
        "        )\n",
        "\n",
        "        self.fc2 = nn.Sequential(\n",
        "            nn.Linear(512, num_classes),\n",
        "        )\n",
        "\n",
        "\n",
        "      \n",
        "    def forward(self, x):\n",
        "\n",
        "      x = self.pool(torch.nn.functional.relu(self.conv1(x)))\n",
        "      x = torch.nn.functional.dropout(x, p= 0.25)\n",
        "\n",
        "      #x = self.conv1(x)\n",
        "      x = self.conv2(x)\n",
        "      x = self.conv3(x)\n",
        "      x = self.conv4(x)\n",
        "      # x = self.conv5(x)\n",
        "\n",
        "      x = x.reshape(x.size(0), -1) \n",
        "      x = self.fc1(x)\n",
        "      x = self.fc2(x)\n",
        "  \n",
        "      return x\n",
        "  \n",
        "\n"
      ],
      "execution_count": 0,
      "outputs": []
    },
    {
      "cell_type": "code",
      "metadata": {
        "id": "VBsc5RQ6vEu3",
        "colab_type": "code",
        "colab": {}
      },
      "source": [
        "torch.manual_seed(0)"
      ],
      "execution_count": 0,
      "outputs": []
    },
    {
      "cell_type": "code",
      "metadata": {
        "id": "wfgTzC2-NAOI",
        "colab_type": "code",
        "colab": {}
      },
      "source": [
        "#model = ConvNet()\n",
        "#model"
      ],
      "execution_count": 0,
      "outputs": []
    },
    {
      "cell_type": "code",
      "metadata": {
        "id": "m8C1pLMQsS0K",
        "colab_type": "code",
        "colab": {}
      },
      "source": [
        "# Device configuration - defaults to CPU unless GPU is available on device\n",
        "device = torch.device('cuda:0' if torch.cuda.is_available() else 'cpu')\n",
        "device"
      ],
      "execution_count": 0,
      "outputs": []
    },
    {
      "cell_type": "code",
      "metadata": {
        "id": "8UvN6MewsWTB",
        "colab_type": "code",
        "colab": {}
      },
      "source": [
        "model_gpu = ConvNet().to(device)\n",
        "# model_gpu"
      ],
      "execution_count": 0,
      "outputs": []
    },
    {
      "cell_type": "markdown",
      "metadata": {
        "id": "NmRJT-wZnRlS",
        "colab_type": "text"
      },
      "source": [
        "### Loss and Optimizer"
      ]
    },
    {
      "cell_type": "code",
      "metadata": {
        "id": "_DntLl-LmG9H",
        "colab_type": "code",
        "colab": {}
      },
      "source": [
        "criterion = nn.CrossEntropyLoss()\n",
        "optimizer = optim.SGD(model_gpu.parameters(), lr=0.0004,momentum=0.9)"
      ],
      "execution_count": 0,
      "outputs": []
    },
    {
      "cell_type": "markdown",
      "metadata": {
        "id": "rv4bMdV3MK7M",
        "colab_type": "text"
      },
      "source": [
        "### Plotting First Filter before Training"
      ]
    },
    {
      "cell_type": "code",
      "metadata": {
        "id": "IDfhhuwf1SiR",
        "colab_type": "code",
        "colab": {}
      },
      "source": [
        "def vis_filters():\n",
        "\n",
        "  filters = model_gpu.conv1.weight.data\n",
        "  filters = filters.to(\"cpu\")\n",
        "  filterNP = filters.numpy()\n",
        "\n",
        "  filterNumber = 4\n",
        "  picID = 1\n",
        "\n",
        "  for k in range(0, 16):\n",
        "    graph = plt.subplot(filterNumber, 4, k+1)\n",
        "    graph.set_xticks([])\n",
        "    graph.set_yticks([])\n",
        "    filterNP[k] = (filterNP[k] - np.mean(filterNP[k]))/ np.std(filterNP[k])\n",
        "    filterNP[k] = np.minimum(1, np.maximum(0, (filterNP[k] + 0.5)))\n",
        "    filterNP[k] = filterNP[k].transpose(1, 2, 0)\n",
        "\n",
        "\n",
        "\n",
        "    plt.imshow(filterNP[k][:,:,0], cmap='gray') #R\n",
        "  \n",
        " \n",
        "  plt.show()\n",
        "  print(\"Red\") \n",
        "\n",
        "  for k in range(0, 16):\n",
        "    graph = plt.subplot(filterNumber, 4, k+1)\n",
        "    graph.set_xticks([])\n",
        "    graph.set_yticks([])\n",
        "    filterNP[k] = (filterNP[k] - np.mean(filterNP[k]))/ np.std(filterNP[k])\n",
        "    filterNP[k] = np.minimum(1, np.maximum(0, (filterNP[k] + 0.5)))\n",
        "    filterNP[k] = filterNP[k].transpose(1, 2, 0)\n",
        "\n",
        "\n",
        "\n",
        "    plt.imshow(filterNP[k][:,:,1], cmap='gray') #G\n",
        "  \n",
        " \n",
        "  plt.show()\n",
        "  print(\"Green\") \n",
        "\n",
        "  for k in range(0, 16):\n",
        "    graph = plt.subplot(filterNumber, 4, k+1)\n",
        "    graph.set_xticks([])\n",
        "    graph.set_yticks([])\n",
        "    filterNP[k] = (filterNP[k] - np.mean(filterNP[k]))/ np.std(filterNP[k])\n",
        "    filterNP[k] = np.minimum(1, np.maximum(0, (filterNP[k] + 0.5)))\n",
        "    filterNP[k] = filterNP[k].transpose(1, 2, 0)\n",
        "\n",
        "\n",
        "\n",
        "    plt.imshow(filterNP[k][:,:,2], cmap='gray') #B\n",
        "  \n",
        " \n",
        "  plt.show()\n",
        "  print(\"Blue\") \n"
      ],
      "execution_count": 0,
      "outputs": []
    },
    {
      "cell_type": "code",
      "metadata": {
        "id": "-GxZUODQKLyi",
        "colab_type": "code",
        "colab": {}
      },
      "source": [
        "# vis_filters()"
      ],
      "execution_count": 0,
      "outputs": []
    },
    {
      "cell_type": "markdown",
      "metadata": {
        "id": "W0YRGHnjnZxH",
        "colab_type": "text"
      },
      "source": [
        "###Training"
      ]
    },
    {
      "cell_type": "code",
      "metadata": {
        "id": "X62Wgkvnnauf",
        "colab_type": "code",
        "colab": {}
      },
      "source": [
        "correct = 0\n",
        "total = 0\n",
        "correctv = 0\n",
        "totalv = 0\n",
        "\n",
        "acc_list = []\n",
        "loss_list = []\n",
        "\n",
        "val_acc = []\n",
        "val_loss_list = []\n",
        "def train_model_epochs(num_epochs):\n",
        "    for epoch in range(num_epochs):\n",
        "\n",
        "        running_loss = 0.0\n",
        "        batch_loss = 0.0\n",
        "        for i, data in enumerate(train_loader, 0):\n",
        "            images, labels = data\n",
        "        \n",
        "            images = images.to(device)  \n",
        "            labels = labels.to(device) \n",
        "\n",
        "            optimizer.zero_grad()\n",
        "            outputs = model_gpu(images)\n",
        "\n",
        "            loss = criterion(outputs, labels)\n",
        "            loss.backward()\n",
        "            optimizer.step()\n",
        "\n",
        "            _, predicted = torch.max(outputs.data, 1)\n",
        "\n",
        "            global correct, total, acc_list, loss_list\n",
        "            total += labels.size(0)\n",
        "            correct += (predicted == labels).sum().item()\n",
        "\n",
        "\n",
        "            # Print our loss\n",
        "            running_loss += loss.item()\n",
        "            batch_loss += loss.item()\n",
        "            if i % 1000 == 999:    # print every 1000 mini-batches\n",
        "                print('Epoch / Batch [%d / %d] - Loss: %.3f - Acc:%.3f' %\n",
        "                      (epoch + 1, i + 1, running_loss / 1000, correct/total))\n",
        "                running_loss = 0.0\n",
        "            if i == len(train_loader) - 1:\n",
        "              acc_list.append(correct / total)\n",
        "              loss_list.append(batch_loss / len(train_loader))\n",
        "              batch_loss = 0.0\n",
        "\n",
        "\n",
        "\n",
        "\n",
        "        with torch.no_grad():\n",
        "          val_loss = 0.0\n",
        "          for data in valid_loader:\n",
        "              imagesv, labelsv = data\n",
        "\n",
        "              imagesv = imagesv.to(device)  \n",
        "              labelsv = labelsv.to(device) \n",
        "              \n",
        "              outputsv = model_gpu(imagesv)\n",
        "              lossv = criterion(outputsv, labelsv)\n",
        "\n",
        "              val_loss += lossv.item()\n",
        "              \n",
        "              _, predictedv = torch.max(outputsv.data, 1)\n",
        "              \n",
        "              global val_acc,val_loss_list, totalv, correctv\n",
        "              totalv += labelsv.size(0)\n",
        "              correctv += (predictedv == labelsv).sum().item()\n",
        "              \n",
        "\n",
        "        print('val_loss: %.3f - val_acc:%.3f' % (val_loss / len(valid_loader), (correct / total)))\n",
        "        val_acc.append(correctv / totalv)\n",
        "        val_loss_list.append(val_loss / len(valid_loader))\n",
        "        val_loss = 0.0"
      ],
      "execution_count": 0,
      "outputs": []
    },
    {
      "cell_type": "code",
      "metadata": {
        "id": "07-xJc_YKFRa",
        "colab_type": "code",
        "colab": {}
      },
      "source": [
        "train_model_epochs(5)"
      ],
      "execution_count": 0,
      "outputs": []
    },
    {
      "cell_type": "code",
      "metadata": {
        "id": "5wpV_3BXK9Xz",
        "colab_type": "code",
        "colab": {}
      },
      "source": [
        "# vis_filters()"
      ],
      "execution_count": 0,
      "outputs": []
    },
    {
      "cell_type": "code",
      "metadata": {
        "id": "922lRm9eLB08",
        "colab_type": "code",
        "colab": {}
      },
      "source": [
        "train_model_epochs(5)"
      ],
      "execution_count": 0,
      "outputs": []
    },
    {
      "cell_type": "code",
      "metadata": {
        "colab_type": "code",
        "id": "bJLWFQwVH5yw",
        "colab": {}
      },
      "source": [
        "epochs = range(len(acc_list))\n",
        "nb_epochs = len(epochs)\n",
        "\n",
        "f2 = plt.figure(2)\n",
        "plt.subplot(1,2,1)\n",
        "plt.axis((0, nb_epochs, 0, 1.2))\n",
        "plt.plot(epochs, acc_list, 'bo', label = 'training acc')\n",
        "plt.plot(epochs, val_acc, 'b', label = 'validation acc')\n",
        "plt.title('train and validation acc')\n",
        "plt.legend()\n",
        "plt.subplot(1,2,2)\n",
        "plt.axis((0, nb_epochs, 0, 5))\n",
        "plt.plot(epochs, loss_list, 'bo', label = 'training loss')\n",
        "plt.plot(epochs, val_loss_list, 'b', label = 'validation loss')\n",
        "plt.title('train and validation loss')\n",
        "plt.legend()\n",
        "plt.draw()\n",
        "plt.pause(0.001)"
      ],
      "execution_count": 0,
      "outputs": []
    },
    {
      "cell_type": "markdown",
      "metadata": {
        "id": "FyeTSn5Pnlyx",
        "colab_type": "text"
      },
      "source": [
        "### Training time"
      ]
    },
    {
      "cell_type": "code",
      "metadata": {
        "id": "uxCShv2vnnwA",
        "colab_type": "code",
        "colab": {}
      },
      "source": [
        "# cpu_train_time = timeit.timeit(\n",
        "#     \"train_model_epochs(num_epochs)\",\n",
        "#     setup=\"num_epochs=6\",\n",
        "#     number=1,\n",
        "#     globals=globals(),\n",
        "# )"
      ],
      "execution_count": 0,
      "outputs": []
    },
    {
      "cell_type": "code",
      "metadata": {
        "id": "AoAL0PZO_tBX",
        "colab_type": "code",
        "colab": {}
      },
      "source": [
        "# cpu_train_time"
      ],
      "execution_count": 0,
      "outputs": []
    },
    {
      "cell_type": "markdown",
      "metadata": {
        "id": "QUUN-0aCxVf1",
        "colab_type": "text"
      },
      "source": [
        "### Accuracy"
      ]
    },
    {
      "cell_type": "code",
      "metadata": {
        "id": "xM0MmXCOxXWS",
        "colab_type": "code",
        "colab": {}
      },
      "source": [
        "correct = 0\n",
        "total = 0\n",
        "labels_list = []\n",
        "predicted_list = []\n",
        "\n",
        "# Why don't we need gradients? What happens if we do include gradients?\n",
        "with torch.no_grad():\n",
        "    \n",
        "    # Iterate over the test set\n",
        "    for data in test_loader:\n",
        "        images, labels = data\n",
        "\n",
        "         # Explicitly specifies that data is to be copied onto the device!\n",
        "        images = images.to(device)  # <----------- And note it's NOT an in-place operation; original\n",
        "        labels = labels.to(device)  # <----------- variables still exist on CPU\n",
        "\n",
        "\n",
        "        \n",
        "        outputs = model_gpu(images)\n",
        "        \n",
        "        # torch.max is an argmax operation\n",
        "        _, predicted = torch.max(outputs.data, 1)\n",
        "\n",
        "        labels_list += labels.tolist()\n",
        "        predicted_list += predicted.tolist()\n",
        "        \n",
        "        total += labels.size(0)\n",
        "        correct += (predicted == labels).sum().item()\n",
        "\n",
        "print('Accuracy of the network on the test images: %d %%' % (100 * correct / total))"
      ],
      "execution_count": 0,
      "outputs": []
    },
    {
      "cell_type": "markdown",
      "metadata": {
        "id": "EGodEl64yXx5",
        "colab_type": "text"
      },
      "source": [
        "### Confusion matrix"
      ]
    },
    {
      "cell_type": "code",
      "metadata": {
        "id": "t5guXabSyd9l",
        "colab_type": "code",
        "colab": {}
      },
      "source": [
        "cm = confusion_matrix(torch.as_tensor(labels_list), torch.as_tensor(predicted_list))\n",
        "cm"
      ],
      "execution_count": 0,
      "outputs": []
    },
    {
      "cell_type": "code",
      "metadata": {
        "id": "LZUVQqECL8xe",
        "colab_type": "code",
        "colab": {}
      },
      "source": [
        "def plot_confusion_matrix(cm,\n",
        "                          classes,\n",
        "                          normalize=True,\n",
        "                          title='Confusion matrix',\n",
        "                          cmap=plt.cm.Blues):\n",
        "    \"\"\"\n",
        "    This function prints and plots the confusion matrix very prettily.\n",
        "    Normalization can be applied by setting `normalize=True`.\n",
        "    \"\"\"\n",
        "    if normalize:\n",
        "        cm = cm.astype('float') / cm.sum(axis=1)[:, np.newaxis]\n",
        "        print(\"Normalized confusion matrix\")\n",
        "    else:\n",
        "        print('Confusion matrix, without normalization')\n",
        "\n",
        "    plt.imshow(cm, interpolation='nearest', cmap=cmap)\n",
        "    plt.title(title)\n",
        "\n",
        "    # Specify the tick marks and axis text\n",
        "    tick_marks = np.arange(len(classes))\n",
        "    plt.xticks(tick_marks, classes, rotation=90)\n",
        "    plt.yticks(tick_marks, classes)\n",
        "\n",
        "    # The data formatting\n",
        "    fmt = '.2f' if normalize else 'd'\n",
        "    thresh = cm.max() / 2.\n",
        "    \n",
        "    # Print the text of the matrix, adjusting text colour for display\n",
        "    for i, j in itertools.product(range(cm.shape[0]), range(cm.shape[1])):\n",
        "        plt.text(j, i, format(cm[i, j], fmt),\n",
        "                 horizontalalignment=\"center\",\n",
        "                 color=\"white\" if cm[i, j] > thresh else \"black\")\n",
        "\n",
        "    plt.ylabel('True label')\n",
        "    plt.xlabel('Predicted label')\n",
        "    plt.tight_layout()\n",
        "    plt.show()"
      ],
      "execution_count": 0,
      "outputs": []
    },
    {
      "cell_type": "code",
      "metadata": {
        "id": "KM9TB0L9L_Rl",
        "colab_type": "code",
        "colab": {}
      },
      "source": [
        "plot_confusion_matrix(cm, classes)"
      ],
      "execution_count": 0,
      "outputs": []
    },
    {
      "cell_type": "markdown",
      "metadata": {
        "id": "P37zcMn_fIjm",
        "colab_type": "text"
      },
      "source": [
        "### Plotting First Filter After Training"
      ]
    },
    {
      "cell_type": "markdown",
      "metadata": {
        "id": "DODYnnQQWyns",
        "colab_type": "text"
      },
      "source": [
        "### Feature Visualizations"
      ]
    },
    {
      "cell_type": "code",
      "metadata": {
        "id": "Evw4QJOwW1z6",
        "colab_type": "code",
        "colab": {}
      },
      "source": [
        "# Visualize feature maps\n",
        "activation = {}\n",
        "def get_activation(name):\n",
        "    def hook(model_gpu, input, output):\n",
        "        activation[name] = output.detach()\n",
        "    return hook\n",
        "\n",
        "model_gpu.conv1.register_forward_hook(get_activation('conv1'))\n",
        "data, _ = ins_dataset_train[1]\n",
        "data.unsqueeze_(0)\n",
        "output = model_gpu.cpu()\n",
        "output = output(data)\n",
        "\n",
        "act = activation['conv1'].squeeze()\n",
        "fig, axarr = plt.subplots(2,2)\n",
        "for idx in range(act.size(0)):\n",
        "    axarr[0,0].imshow(act[0],cmap=\"gray\")\n",
        "    axarr[0,1].imshow(act[1],cmap=\"gray\")\n",
        "    axarr[1,0].imshow(act[14],cmap=\"gray\")\n",
        "    axarr[1,1].imshow(act[12],cmap=\"gray\")"
      ],
      "execution_count": 0,
      "outputs": []
    },
    {
      "cell_type": "code",
      "metadata": {
        "id": "85-VF6fv_jeL",
        "colab_type": "code",
        "colab": {}
      },
      "source": [
        "# Visualize feature maps\n",
        "activation = {}\n",
        "def get_activation(name):\n",
        "    def hook(model_gpu, input, output):\n",
        "        activation[name] = output.detach()\n",
        "    return hook\n",
        "\n",
        "model_gpu.conv2.register_forward_hook(get_activation('conv2'))\n",
        "data, _ = ins_dataset_train[0]\n",
        "data.unsqueeze_(0)\n",
        "output = model_gpu.cpu()\n",
        "output = output(data)\n",
        "\n",
        "act = activation['conv2'].squeeze()\n",
        "fig, axarr = plt.subplots(2,2)\n",
        "for idx in range(act.size(0)):\n",
        "    axarr[0,0].imshow(act[0],cmap=\"gray\")\n",
        "    axarr[0,1].imshow(act[1],cmap=\"gray\")\n",
        "    axarr[1,0].imshow(act[12],cmap=\"gray\")\n",
        "    axarr[1,1].imshow(act[14],cmap=\"gray\")"
      ],
      "execution_count": 0,
      "outputs": []
    },
    {
      "cell_type": "code",
      "metadata": {
        "id": "ZmhEm-_GBVCz",
        "colab_type": "code",
        "colab": {}
      },
      "source": [
        "# Visualize feature maps\n",
        "activation = {}\n",
        "def get_activation(name):\n",
        "    def hook(model_gpu, input, output):\n",
        "        activation[name] = output.detach()\n",
        "    return hook\n",
        "\n",
        "model_gpu.conv3.register_forward_hook(get_activation('conv3'))\n",
        "data, _ = ins_dataset_train[0]\n",
        "data.unsqueeze_(0)\n",
        "output = model_gpu.cpu()\n",
        "output = output(data)\n",
        "\n",
        "act = activation['conv3'].squeeze()\n",
        "fig, axarr = plt.subplots(2,2)\n",
        "for idx in range(act.size(0)):\n",
        "    axarr[0,0].imshow(act[0],cmap=\"gray\")\n",
        "    axarr[0,1].imshow(act[1],cmap=\"gray\")\n",
        "    axarr[1,0].imshow(act[12],cmap=\"gray\")\n",
        "    axarr[1,1].imshow(act[14],cmap=\"gray\")"
      ],
      "execution_count": 0,
      "outputs": []
    },
    {
      "cell_type": "code",
      "metadata": {
        "id": "ynm8vihZB4zP",
        "colab_type": "code",
        "colab": {}
      },
      "source": [
        "# Visualize feature maps\n",
        "activation = {}\n",
        "def get_activation(name):\n",
        "    def hook(model_gpu, input, output):\n",
        "        activation[name] = output.detach()\n",
        "    return hook\n",
        "\n",
        "model_gpu.conv4.register_forward_hook(get_activation('conv4'))\n",
        "data, _ = ins_dataset_train[0]\n",
        "data.unsqueeze_(0)\n",
        "output = model_gpu.cpu()\n",
        "output = output(data)\n",
        "\n",
        "act = activation['conv4'].squeeze()\n",
        "fig, axarr = plt.subplots(2,2)\n",
        "for idx in range(act.size(0)):\n",
        "    axarr[0,0].imshow(act[0],cmap=\"gray\")\n",
        "    axarr[0,1].imshow(act[1],cmap=\"gray\")\n",
        "    axarr[1,0].imshow(act[12],cmap=\"gray\")\n",
        "    axarr[1,1].imshow(act[14],cmap=\"gray\")"
      ],
      "execution_count": 0,
      "outputs": []
    },
    {
      "cell_type": "code",
      "metadata": {
        "id": "8Bd-daKt2wMw",
        "colab_type": "code",
        "colab": {}
      },
      "source": [
        "# Visualize feature maps\n",
        "activation = {}\n",
        "def get_activation(name):\n",
        "    def hook(model_gpu, input, output):\n",
        "        activation[name] = output.detach()\n",
        "    return hook\n",
        "\n",
        "model_gpu.conv1.register_forward_hook(get_activation('conv1'))\n",
        "data, _ = ins_dataset_train[1]\n",
        "data.unsqueeze_(0)\n",
        "output = model_gpu.cpu()\n",
        "output = output(data)\n",
        "\n",
        "act = activation['conv1'].squeeze()\n",
        "fig, axarr = plt.subplots(2,2)\n",
        "for idx in range(act.size(0)):\n",
        "    axarr[0,0].imshow(act[0],cmap=\"gray\")\n",
        "    axarr[0,1].imshow(act[1],cmap=\"gray\")\n",
        "    axarr[1,0].imshow(act[14],cmap=\"gray\")\n",
        "    axarr[1,1].imshow(act[12],cmap=\"gray\")"
      ],
      "execution_count": 0,
      "outputs": []
    },
    {
      "cell_type": "code",
      "metadata": {
        "id": "W1CFzocu22_C",
        "colab_type": "code",
        "colab": {}
      },
      "source": [
        "# Visualize feature maps\n",
        "activation = {}\n",
        "def get_activation(name):\n",
        "    def hook(model_gpu, input, output):\n",
        "        activation[name] = output.detach()\n",
        "    return hook\n",
        "\n",
        "model_gpu.conv2.register_forward_hook(get_activation('conv2'))\n",
        "data, _ = ins_dataset_train[1]\n",
        "data.unsqueeze_(0)\n",
        "output = model_gpu.cpu()\n",
        "output = output(data)\n",
        "\n",
        "act = activation['conv2'].squeeze()\n",
        "fig, axarr = plt.subplots(2,2)\n",
        "for idx in range(act.size(0)):\n",
        "    axarr[0,0].imshow(act[0],cmap=\"gray\")\n",
        "    axarr[0,1].imshow(act[1],cmap=\"gray\")\n",
        "    axarr[1,0].imshow(act[12],cmap=\"gray\")\n",
        "    axarr[1,1].imshow(act[14],cmap=\"gray\")"
      ],
      "execution_count": 0,
      "outputs": []
    },
    {
      "cell_type": "code",
      "metadata": {
        "id": "_pbePnEv27w1",
        "colab_type": "code",
        "colab": {}
      },
      "source": [
        "# Visualize feature maps\n",
        "activation = {}\n",
        "def get_activation(name):\n",
        "    def hook(model_gpu, input, output):\n",
        "        activation[name] = output.detach()\n",
        "    return hook\n",
        "\n",
        "model_gpu.conv3.register_forward_hook(get_activation('conv3'))\n",
        "data, _ = ins_dataset_train[1]\n",
        "data.unsqueeze_(0)\n",
        "output = model_gpu.cpu()\n",
        "output = output(data)\n",
        "\n",
        "act = activation['conv3'].squeeze()\n",
        "fig, axarr = plt.subplots(2,2)\n",
        "for idx in range(act.size(0)):\n",
        "    axarr[0,0].imshow(act[0],cmap=\"gray\")\n",
        "    axarr[0,1].imshow(act[1],cmap=\"gray\")\n",
        "    axarr[1,0].imshow(act[12],cmap=\"gray\")\n",
        "    axarr[1,1].imshow(act[14],cmap=\"gray\")"
      ],
      "execution_count": 0,
      "outputs": []
    },
    {
      "cell_type": "code",
      "metadata": {
        "id": "C5bZB18O3AUb",
        "colab_type": "code",
        "colab": {}
      },
      "source": [
        "# Visualize feature maps\n",
        "activation = {}\n",
        "def get_activation(name):\n",
        "    def hook(model_gpu, input, output):\n",
        "        activation[name] = output.detach()\n",
        "    return hook\n",
        "\n",
        "model_gpu.conv4.register_forward_hook(get_activation('conv4'))\n",
        "data, _ = ins_dataset_train[1]\n",
        "data.unsqueeze_(0)\n",
        "output = model_gpu.cpu()\n",
        "output = output(data)\n",
        "\n",
        "act = activation['conv4'].squeeze()\n",
        "fig, axarr = plt.subplots(2,2)\n",
        "for idx in range(act.size(0)):\n",
        "    axarr[0,0].imshow(act[0],cmap=\"gray\")\n",
        "    axarr[0,1].imshow(act[1],cmap=\"gray\")\n",
        "    axarr[1,0].imshow(act[12],cmap=\"gray\")\n",
        "    axarr[1,1].imshow(act[14],cmap=\"gray\")"
      ],
      "execution_count": 0,
      "outputs": []
    }
  ]
}